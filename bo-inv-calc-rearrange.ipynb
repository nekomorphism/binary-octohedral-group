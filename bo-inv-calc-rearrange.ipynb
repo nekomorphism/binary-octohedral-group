{
 "cells": [
  {
   "cell_type": "code",
   "execution_count": 3,
   "id": "4b0659e2",
   "metadata": {
    "tags": []
   },
   "outputs": [],
   "source": [
    "from sage.rings.polynomial.pbori.pbori import BooleSet\n",
    "import json\n",
    "import itertools\n",
    "import pandas as pd\n",
    "import numpy as np"
   ]
  },
  {
   "cell_type": "markdown",
   "id": "a141ab1a",
   "metadata": {},
   "source": [
    "We want to create a polynomial function from the binary representation of a group element to the binary representation of its inverse. To do this we construct two tables: one for the addressing function ($2\\mathbb{O} \\rightarrow \\mathbb{Z_2^6}$), and another which simply directly inverts elements by the usual $(abc)^{-1} = c^{-1}b^{-1}a^{-1}$ formula and then stores the element and the powers used to generate it. Then, by matching the tables on the group element, we can match the parameters fed to the inverse map to our standard address.\n",
    "\n",
    "To start we first define a Boolean ring $B$ which we will be solving over. We also define a Quaternion Algebra $Q$ and its generators, which will act as our common representation in both tables."
   ]
  },
  {
   "cell_type": "code",
   "execution_count": 4,
   "id": "940376d1",
   "metadata": {
    "tags": []
   },
   "outputs": [],
   "source": [
    "B.<x1,x2,x3,x4,x5,x6> = BooleanPolynomialRing(6)\n",
    "\n",
    "\n",
    "Q_params.<z1,z2,z3,z4,z5,z6> = PolynomialRing(SR, 6)\n",
    "Q.<i,j,k> = QuaternionAlgebra(Q_params, -1, -1)\n",
    "\n",
    "u = - 1/2 * (1 + i + j + k)\n",
    "t = (1 + i) / sqrt(2)"
   ]
  },
  {
   "cell_type": "markdown",
   "id": "23a21126",
   "metadata": {},
   "source": [
    "Now we define our tables. The rows of the will consist of the element, written in quaternion form, corresponding to the product $$(-1)^{p_1} u^{2 {p_2} + {p_3}} t^{p_4} j^{p_5} k^{p_6}$$ followed by the parameters $p_i$ which were used."
   ]
  },
  {
   "cell_type": "code",
   "execution_count": 5,
   "id": "c33cc932",
   "metadata": {
    "tags": []
   },
   "outputs": [],
   "source": [
    "canonical_forms = pd.DataFrame(data = [{ \"element\" : str((-1)**p1 * j**p2 * k**p3 * u**(2*p4 + p5) * t**p6),\n",
    "                                         \"z1\" : p1,\n",
    "                                         \"z2\" : p2,\n",
    "                                         \"z3\" : p3,\n",
    "                                         \"z4\" : p4,\n",
    "                                         \"z5\" : p5,\n",
    "                                         \"z6\" : p6 }\n",
    "                                       for p1, p2, p3, p4, p5, p6\n",
    "                                       in itertools.product(range(2),\n",
    "                                                            range(2),\n",
    "                                                            range(2),\n",
    "                                                            range(2),\n",
    "                                                            range(2),\n",
    "                                                            range(2))])\n",
    "canonical_forms = canonical_forms[(canonical_forms.z4 + canonical_forms.z5) != 2]\n",
    "\n",
    "\n",
    "\n",
    "inverse_table = pd.DataFrame(data = [{ \"element\" : str(t**(8-p6) * u**(3 - (2*p4 + p5)) * k**(4-p3) * j**(4-p2) * (-1)**(2-p1)),\n",
    "                                       \"x1\" : p1,\n",
    "                                       \"x2\" : p2,\n",
    "                                       \"x3\" : p3,\n",
    "                                       \"x4\" : p4,\n",
    "                                       \"x5\" : p5,\n",
    "                                       \"x6\" : p6 }\n",
    "                                     for p1, p2, p3, p4, p5, p6\n",
    "                                     in itertools.product(range(2),\n",
    "                                                          range(2),\n",
    "                                                          range(2),\n",
    "                                                          range(2),\n",
    "                                                          range(2),\n",
    "                                                          range(2))])\n",
    "inverse_table = inverse_table[(inverse_table.x4 + inverse_table.x5) != 2]"
   ]
  },
  {
   "cell_type": "markdown",
   "id": "3b9c2120",
   "metadata": {},
   "source": [
    "Now we join the the tables across the common element. Thus we obtain an association between an element an its inverse within the bianry representation."
   ]
  },
  {
   "cell_type": "code",
   "execution_count": 6,
   "id": "0cae9a28",
   "metadata": {
    "tags": []
   },
   "outputs": [],
   "source": [
    "inverse_table_idens = inverse_table.join(canonical_forms.set_index(\"element\"),\n",
    "                         on = \"element\")"
   ]
  },
  {
   "cell_type": "markdown",
   "id": "ddb499ae",
   "metadata": {},
   "source": [
    "Next up we collect, for each of the six bits of an element's address, all those sets of inverse map powers which correspond to a 0 or a 1. Then we feed this data to a specialized Sagemath solver which will produce a polynomial which upon given those inverse powers, will produce 0 or 1 exactly when the corresponding parameters were matched with a 0 or 1 respectively."
   ]
  },
  {
   "cell_type": "code",
   "execution_count": 7,
   "id": "5c6afda0",
   "metadata": {
    "tags": []
   },
   "outputs": [],
   "source": [
    "z1_zeros = inverse_table_idens[inverse_table_idens.z1 == 0].loc[:,[\"x1\",\"x2\",\"x3\",\"x4\",\"x5\",\"x6\"]].values\n",
    "z1_ones  = inverse_table_idens[inverse_table_idens.z1 == 1].loc[:,[\"x1\",\"x2\",\"x3\",\"x4\",\"x5\",\"x6\"]].values\n",
    "z1_zeros = set(list(map(tuple, z1_zeros)))\n",
    "z1_ones  = set(list(map(tuple, z1_ones)))\n",
    "\n",
    "z2_zeros = inverse_table_idens[inverse_table_idens.z2 == 0].loc[:,[\"x1\",\"x2\",\"x3\",\"x4\",\"x5\",\"x6\"]].values\n",
    "z2_ones  = inverse_table_idens[inverse_table_idens.z2 == 1].loc[:,[\"x1\",\"x2\",\"x3\",\"x4\",\"x5\",\"x6\"]].values\n",
    "z2_zeros = set(list(map(tuple, z2_zeros)))\n",
    "z2_ones  = set(list(map(tuple, z2_ones)))\n",
    "\n",
    "z3_zeros = inverse_table_idens[inverse_table_idens.z3 == 0].loc[:,[\"x1\",\"x2\",\"x3\",\"x4\",\"x5\",\"x6\"]].values\n",
    "z3_ones  = inverse_table_idens[inverse_table_idens.z3 == 1].loc[:,[\"x1\",\"x2\",\"x3\",\"x4\",\"x5\",\"x6\"]].values\n",
    "z3_zeros = set(list(map(tuple, z3_zeros)))\n",
    "z3_ones  = set(list(map(tuple, z3_ones)))\n",
    "\n",
    "z4_zeros = inverse_table_idens[inverse_table_idens.z4 == 0].loc[:,[\"x1\",\"x2\",\"x3\",\"x4\",\"x5\",\"x6\"]].values\n",
    "z4_ones  = inverse_table_idens[inverse_table_idens.z4 == 1].loc[:,[\"x1\",\"x2\",\"x3\",\"x4\",\"x5\",\"x6\"]].values\n",
    "z4_zeros = set(list(map(tuple, z4_zeros)))\n",
    "z4_ones  = set(list(map(tuple, z4_ones)))\n",
    "\n",
    "z5_zeros = inverse_table_idens[inverse_table_idens.z5 == 0].loc[:,[\"x1\",\"x2\",\"x3\",\"x4\",\"x5\",\"x6\"]].values\n",
    "z5_ones  = inverse_table_idens[inverse_table_idens.z5 == 1].loc[:,[\"x1\",\"x2\",\"x3\",\"x4\",\"x5\",\"x6\"]].values\n",
    "z5_zeros = set(list(map(tuple, z5_zeros)))\n",
    "z5_ones  = set(list(map(tuple, z5_ones)))\n",
    "\n",
    "z6_zeros = inverse_table_idens[inverse_table_idens.z6 == 0].loc[:,[\"x1\",\"x2\",\"x3\",\"x4\",\"x5\",\"x6\"]].values\n",
    "z6_ones  = inverse_table_idens[inverse_table_idens.z6 == 1].loc[:,[\"x1\",\"x2\",\"x3\",\"x4\",\"x5\",\"x6\"]].values\n",
    "z6_zeros = set(list(map(tuple, z6_zeros)))\n",
    "z6_ones  = set(list(map(tuple, z6_ones)))"
   ]
  },
  {
   "cell_type": "code",
   "execution_count": 8,
   "id": "c4012094",
   "metadata": {
    "tags": []
   },
   "outputs": [],
   "source": [
    "z1p = B.interpolation_polynomial(z1_zeros,z1_ones)\n",
    "z2p = B.interpolation_polynomial(z2_zeros,z2_ones)\n",
    "z3p = B.interpolation_polynomial(z3_zeros,z3_ones)\n",
    "z4p = B.interpolation_polynomial(z4_zeros,z4_ones)\n",
    "z5p = B.interpolation_polynomial(z5_zeros,z5_ones)\n",
    "z6p = B.interpolation_polynomial(z6_zeros,z6_ones)"
   ]
  },
  {
   "cell_type": "markdown",
   "id": "d805924c",
   "metadata": {},
   "source": [
    "Then we do the final test. Theres a little bit of trickery required to make the types match. Its unimportant, but we have to cast to a less algorithically specialized ring. After casting all the polynomials, we run through each parameter arrangement and generate the corresponding element. We simulatenously run each of our 6 polynomials on that set of parameters fed to the inverse function and generate the corresponding element. We then compare to ensure we get the same result. If everything works, you should see \"True\" after running this!"
   ]
  },
  {
   "cell_type": "code",
   "execution_count": 9,
   "id": "dabbd9d0",
   "metadata": {
    "tags": []
   },
   "outputs": [
    {
     "name": "stdout",
     "output_type": "stream",
     "text": [
      "True\n"
     ]
    }
   ],
   "source": [
    "B_as_Z =  GF(2)[\"x1\",\"x2\",\"x3\",\"x4\",\"x5\",\"x6\"]\n",
    "z1_poly = B_as_Z(B.interpolation_polynomial(z1_zeros,z1_ones))\n",
    "z2_poly = B_as_Z(B.interpolation_polynomial(z2_zeros,z2_ones))\n",
    "z3_poly = B_as_Z(B.interpolation_polynomial(z3_zeros,z3_ones))\n",
    "z4_poly = B_as_Z(B.interpolation_polynomial(z4_zeros,z4_ones))\n",
    "z5_poly = B_as_Z(B.interpolation_polynomial(z5_zeros,z5_ones))\n",
    "z6_poly = B_as_Z(B.interpolation_polynomial(z6_zeros,z6_ones))\n",
    "\n",
    "\n",
    "\n",
    "def powers_to_el(arg1,arg2,arg3,arg4,arg5,arg6):\n",
    "    return ((-1)^arg1) * (j^arg2) * (k^arg3) * (u^((2 * arg4) + arg5))  * (t^arg6)\n",
    "\n",
    "def invert_el(arg1,arg2,arg3,arg4,arg5,arg6):\n",
    "    return t**(8-arg6) * u**(3 - (2*arg4 + arg5)) * k**(4-arg3) * j**(4-arg2) * (-1)**(2 - arg1)\n",
    "\n",
    "\n",
    "results = []\n",
    "for p1, p2, p3, p4, p5, p6 in list(itertools.product(range(2),\n",
    "                                                     range(2),\n",
    "                                                     range(2),\n",
    "                                                     range(2),\n",
    "                                                     range(2),\n",
    "                                                     range(2))):\n",
    "\n",
    "\n",
    "    #Ignore impossible case (where our polys fail!)\n",
    "    if (p4 and p5):\n",
    "        continue\n",
    "\n",
    "    z1_pow = int(z1_poly(p1,p2,p3,p4,p5,p6))\n",
    "    z2_pow = int(z2_poly(p1,p2,p3,p4,p5,p6))\n",
    "    z3_pow = int(z3_poly(p1,p2,p3,p4,p5,p6))\n",
    "    z4_pow = int(z4_poly(p1,p2,p3,p4,p5,p6))\n",
    "    z5_pow = int(z5_poly(p1,p2,p3,p4,p5,p6))\n",
    "    z6_pow = int(z6_poly(p1,p2,p3,p4,p5,p6))\n",
    "\n",
    "    inverse = invert_el(p1,p2,p3,p4,p5,p6)\n",
    "    potential_result = powers_to_el(z1_pow,z2_pow,z3_pow,z4_pow,z5_pow,z6_pow)\n",
    "\n",
    "    results.append(inverse == potential_result)\n",
    "\n",
    "print(all(results))"
   ]
  },
  {
   "cell_type": "code",
   "execution_count": 13,
   "id": "8bc576f0",
   "metadata": {
    "tags": []
   },
   "outputs": [
    {
     "data": {
      "text/plain": [
       "x1 + x2*x3*x6 + x2*x3 + x2*x5*x6 + x2*x6 + x2 + x3*x4*x6 + x3*x6 + x3 + x4*x6 + x6"
      ]
     },
     "execution_count": 13,
     "metadata": {},
     "output_type": "execute_result"
    }
   ],
   "source": [
    "z1p"
   ]
  },
  {
   "cell_type": "code",
   "execution_count": 16,
   "id": "7af6032f",
   "metadata": {
    "tags": []
   },
   "outputs": [
    {
     "data": {
      "text/plain": [
       "x2*x4 + x2 + x3*x4 + x3*x5 + x4 + x5 + 1"
      ]
     },
     "execution_count": 16,
     "metadata": {},
     "output_type": "execute_result"
    }
   ],
   "source": [
    "z3p(x6=1)"
   ]
  },
  {
   "cell_type": "code",
   "execution_count": 12,
   "id": "3120036c",
   "metadata": {
    "tags": []
   },
   "outputs": [
    {
     "data": {
      "text/plain": [
       "x2*x5 + x2 + x3*x4 + x3 + x4*x6"
      ]
     },
     "execution_count": 12,
     "metadata": {},
     "output_type": "execute_result"
    }
   ],
   "source": [
    "z2p - z3p"
   ]
  },
  {
   "cell_type": "code",
   "execution_count": null,
   "id": "38b2418c",
   "metadata": {},
   "outputs": [],
   "source": []
  },
  {
   "cell_type": "code",
   "execution_count": 11,
   "id": "07120d77",
   "metadata": {},
   "outputs": [
    {
     "data": {
      "text/plain": [
       "x4"
      ]
     },
     "execution_count": 11,
     "metadata": {},
     "output_type": "execute_result"
    }
   ],
   "source": [
    "z4p(x6=1)"
   ]
  },
  {
   "cell_type": "code",
   "execution_count": 12,
   "id": "96ca5fb0",
   "metadata": {},
   "outputs": [
    {
     "data": {
      "text/plain": [
       "x5"
      ]
     },
     "execution_count": 12,
     "metadata": {},
     "output_type": "execute_result"
    }
   ],
   "source": [
    "z5p(x6=1)"
   ]
  },
  {
   "cell_type": "code",
   "execution_count": 13,
   "id": "7a072c59",
   "metadata": {},
   "outputs": [
    {
     "data": {
      "text/plain": [
       "x6"
      ]
     },
     "execution_count": 13,
     "metadata": {},
     "output_type": "execute_result"
    }
   ],
   "source": [
    "z6p"
   ]
  },
  {
   "cell_type": "code",
   "execution_count": 14,
   "id": "50a3e066",
   "metadata": {},
   "outputs": [
    {
     "data": {
      "text/plain": [
       "x2*x5 + x2 + x3*x4 + x3 + x4"
      ]
     },
     "execution_count": 14,
     "metadata": {},
     "output_type": "execute_result"
    }
   ],
   "source": [
    "z2p(x6=1) - z3p(x6=1)"
   ]
  },
  {
   "cell_type": "code",
   "execution_count": 15,
   "id": "8a810c85",
   "metadata": {},
   "outputs": [
    {
     "data": {
      "text/plain": [
       "x2*x3*x6 + x3*x4*x6 + x2*x5*x6 + x2*x3 + x2*x6 + x3*x6 + x4*x6 + x1 + x2 + x3 + x6"
      ]
     },
     "execution_count": 15,
     "metadata": {},
     "output_type": "execute_result"
    }
   ],
   "source": [
    "z1_poly"
   ]
  },
  {
   "cell_type": "code",
   "execution_count": 16,
   "id": "2c30f875",
   "metadata": {},
   "outputs": [
    {
     "data": {
      "text/plain": [
       "x3*x4*x6 + x2*x5*x6 + x2*x4 + x3*x4 + x3*x5 + x2*x6 + x3*x6 + x5*x6 + x2 + x6"
      ]
     },
     "execution_count": 16,
     "metadata": {},
     "output_type": "execute_result"
    }
   ],
   "source": [
    "z2_poly"
   ]
  },
  {
   "cell_type": "code",
   "execution_count": 17,
   "id": "eb42bffb",
   "metadata": {},
   "outputs": [
    {
     "data": {
      "text/plain": [
       "x4"
      ]
     },
     "execution_count": 17,
     "metadata": {},
     "output_type": "execute_result"
    }
   ],
   "source": [
    "z5p(x6=0)"
   ]
  },
  {
   "cell_type": "code",
   "execution_count": null,
   "id": "ec35dd65",
   "metadata": {},
   "outputs": [],
   "source": []
  }
 ],
 "metadata": {
  "kernelspec": {
   "display_name": "SageMath 9.7",
   "language": "sage",
   "name": "sagemath"
  },
  "language_info": {
   "codemirror_mode": {
    "name": "ipython",
    "version": 3
   },
   "file_extension": ".py",
   "mimetype": "text/x-python",
   "name": "python",
   "nbconvert_exporter": "python",
   "pygments_lexer": "ipython3",
   "version": "3.10.5"
  }
 },
 "nbformat": 4,
 "nbformat_minor": 5
}
