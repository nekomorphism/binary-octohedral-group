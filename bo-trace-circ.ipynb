{
 "cells": [
  {
   "cell_type": "code",
   "execution_count": 1,
   "id": "62da7c8e-65dc-4ca3-a557-352008fc4ea2",
   "metadata": {
    "tags": []
   },
   "outputs": [],
   "source": [
    "import numpy as np\n",
    "import math\n",
    "from math import sqrt as sqrt\n",
    "import itertools as it\n",
    "from qiskit import *\n",
    "from qiskit.providers import aer\n",
    "from qiskit import Aer\n",
    "from qiskit.quantum_info import Operator, Statevector\n",
    "from qiskit.visualization import plot_histogram\n",
    "from qiskit.circuit import ParameterVector\n",
    "from qiskit.quantum_info import SparsePauliOp\n",
    "\n",
    "import qiskit.tools.jupyter"
   ]
  },
  {
   "cell_type": "code",
   "execution_count": null,
   "id": "f84a3688-a6bd-4966-832a-8ab52ac15fd4",
   "metadata": {
    "tags": []
   },
   "outputs": [],
   "source": []
  },
  {
   "cell_type": "code",
   "execution_count": 2,
   "id": "ba83907f-54a7-4d5e-8772-2af6e258dd98",
   "metadata": {
    "tags": []
   },
   "outputs": [],
   "source": [
    "traces = [2.00000000000000, 1.00000000000000*sqrt(2), -1.00000000000000,\n",
    "       -1.00000000000000*sqrt(2), -1.00000000000000, 0, 0, 0,\n",
    "       0.000000000000000, 0, -1.00000000000000, -1.00000000000000*sqrt(2),\n",
    "       1.00000000000000, 1.00000000000000*sqrt(2), 0, 0, 0, 0,\n",
    "       -1.00000000000000, 0, 1.00000000000000, 0, 0, 0, 0,\n",
    "       1.00000000000000*sqrt(2), 1.00000000000000, 0, -1.00000000000000,\n",
    "       -1.00000000000000*sqrt(2), 0, 0, -2.00000000000000,\n",
    "       -1.00000000000000*sqrt(2), 1.00000000000000,\n",
    "       1.00000000000000*sqrt(2), 1.00000000000000, 0, 0, 0,\n",
    "       0.000000000000000, 0, 1.00000000000000, 1.00000000000000*sqrt(2),\n",
    "       -1.00000000000000, -1.00000000000000*sqrt(2), 0, 0, 0, 0,\n",
    "       1.00000000000000, 0, -1.00000000000000, 0, 0, 0, 0,\n",
    "       -1.00000000000000*sqrt(2), -1.00000000000000, 0, 1.00000000000000,\n",
    "       1.00000000000000*sqrt(2), 0, 0]\n",
    "\n",
    "trace_mag = np.linalg.norm(traces)\n",
    "\n",
    "trace_ham = np.diag(traces)"
   ]
  },
  {
   "cell_type": "code",
   "execution_count": 3,
   "id": "7510c835-3b41-44e0-b305-0ce0a19f8205",
   "metadata": {
    "tags": []
   },
   "outputs": [],
   "source": [
    "zbase_trace = SparsePauliOp.from_operator(trace_ham)\n",
    "zbase_trace_operator = zbase_trace.to_operator()"
   ]
  },
  {
   "cell_type": "code",
   "execution_count": 6,
   "id": "912f2f23-587f-48ce-8fc9-d30fd730ef2d",
   "metadata": {},
   "outputs": [
    {
     "data": {
      "image/png": "[encoded data removed]",
      "text/plain": [
       "<Figure size 266.332x385.28 with 1 Axes>"
      ]
     },
     "execution_count": 6,
     "metadata": {},
     "output_type": "execute_result"
    }
   ],
   "source": [
    "x1 = QuantumRegister(1,\"x1\")\n",
    "x2 = QuantumRegister(1,\"x2\")\n",
    "x3 = QuantumRegister(1,\"x3\")\n",
    "x4 = QuantumRegister(1,\"x4\")\n",
    "x5 = QuantumRegister(1,\"x5\")\n",
    "x6 = QuantumRegister(1,\"x6\")\n",
    "\n",
    "a = 1/8 * (math.sqrt(2) + 1)\n",
    "b = 1/8 * (math.sqrt(2) - 1)\n",
    "d = 1/8\n",
    "e = math.sqrt(2)/8\n",
    "f = 1/4 * (1 + math.sqrt(2)/2)\n",
    "g = 1/4 * (1 - math.sqrt(2)/2)\n",
    "\n",
    "traceGate = QuantumCircuit(x1,x2,x3,x4,x5,x6, name=\" [$trace$ Gate] \")\n",
    "\n",
    "# traceGate.cx(x2,x5)\n",
    "# traceGate.ccx(x1,x4,x5)\n",
    "# traceGate.ccx(x1,x2,x5)\n",
    "# traceGate.mcx([x1,x2,x3,x4],x5)\n",
    "# traceGate.rz(a,x5)\n",
    "traceGate.mcx([x2,x4],x1) # x1+x2+x4\n",
    "traceGate.mcx([x1,x3],x2) # x1+x2+x4+x3+x2 = x1+x2+x4+x3\n",
    "traceGate.rz(f,x2) # eventually x3\n",
    "#traceGate.mcx([x1])\n",
    "\n",
    "#traceGate.append(zbase_trace_operator,[x1,x2,x3,x4,x5,x6])\n",
    "traceGate.draw(\"mpl\")"
   ]
  },
  {
   "cell_type": "code",
   "execution_count": null,
   "id": "e8916131-8100-423d-9587-94067c8015f0",
   "metadata": {
    "tags": []
   },
   "outputs": [],
   "source": []
  },
  {
   "cell_type": "code",
   "execution_count": 8,
   "id": "d14616e2-4d28-49ef-8380-7a1c9137900f",
   "metadata": {
    "tags": []
   },
   "outputs": [
    {
     "data": {
      "text/plain": [
       "SparsePauliOp(['ZIIIZI', 'ZIIIZZ', 'ZIIZZI', 'ZIIZZZ', 'ZIZIZI', 'ZIZIZZ', 'ZIZZZI', 'ZIZZZZ', 'ZZIIZI', 'ZZIIZZ', 'ZZIZII', 'ZZIZIZ', 'ZZIZZI', 'ZZIZZZ', 'ZZZIZI', 'ZZZIZZ', 'ZZZZII', 'ZZZZIZ', 'ZZZZZI', 'ZZZZZZ'],\n",
       "              coeffs=[ 0.3017767+0.j, -0.0517767+0.j,  0.3017767+0.j, -0.0517767+0.j,\n",
       "  0.125    +0.j,  0.125    +0.j,  0.125    +0.j,  0.125    +0.j,\n",
       "  0.3017767+0.j, -0.0517767+0.j, -0.1767767+0.j,  0.1767767+0.j,\n",
       "  0.125    +0.j,  0.125    +0.j, -0.125    +0.j, -0.125    +0.j,\n",
       "  0.4267767+0.j,  0.0732233+0.j,  0.3017767+0.j, -0.0517767+0.j])"
      ]
     },
     "execution_count": 8,
     "metadata": {},
     "output_type": "execute_result"
    }
   ],
   "source": [
    "zbase_trace"
   ]
  },
  {
   "cell_type": "code",
   "execution_count": null,
   "id": "18f6ee51-5c29-4828-9593-2e4868044c68",
   "metadata": {
    "tags": []
   },
   "outputs": [],
   "source": []
  },
  {
   "cell_type": "code",
   "execution_count": null,
   "id": "8e71864a-1967-4561-8602-6d283744ec05",
   "metadata": {
    "tags": []
   },
   "outputs": [],
   "source": [
    "sum(zbase_trace.coeffs)"
   ]
  },
  {
   "cell_type": "code",
   "execution_count": null,
   "id": "fe932c36-6a23-4493-aee9-b50325e004ce",
   "metadata": {},
   "outputs": [],
   "source": [
    "trace_ham"
   ]
  },
  {
   "cell_type": "code",
   "execution_count": null,
   "id": "b80203a4-bd89-451a-bb62-67f49c933c9c",
   "metadata": {},
   "outputs": [],
   "source": []
  }
 ],
 "metadata": {
  "kernelspec": {
   "display_name": "Python 3 (ipykernel)",
   "language": "python",
   "name": "python3"
  },
  "language_info": {
   "codemirror_mode": {
    "name": "ipython",
    "version": 3
   },
   "file_extension": ".py",
   "mimetype": "text/x-python",
   "name": "python",
   "nbconvert_exporter": "python",
   "pygments_lexer": "ipython3",
   "version": "3.10.5"
  }
 },
 "nbformat": 4,
 "nbformat_minor": 5
}
