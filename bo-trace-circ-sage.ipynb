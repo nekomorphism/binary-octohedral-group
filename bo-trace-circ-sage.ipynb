{
 "cells": [
  {
   "cell_type": "markdown",
   "id": "75979dd7-6b5c-414a-9614-430942e876d4",
   "metadata": {},
   "source": [
    "Some Calcs for the SparsePauliOp derivation"
   ]
  },
  {
   "cell_type": "code",
   "execution_count": 1,
   "id": "0ab1a622-583a-455f-a333-7c60555e068d",
   "metadata": {
    "tags": []
   },
   "outputs": [],
   "source": [
    "ZBase.<a,b,d,e,f,g,Id,Z1,Z2,Z3,Z4,Z5,Z6> = PolynomialRing(AA, order=\"deglex\")"
   ]
  },
  {
   "cell_type": "code",
   "execution_count": 2,
   "id": "31760273-dc60-4250-85d2-39f51077d588",
   "metadata": {
    "tags": []
   },
   "outputs": [],
   "source": [
    "# trace_gate =\\\n",
    "#     a * Z1 * Id * Id * Id * Z5 * Id\\\n",
    "#     - b * Z1 * Id * Id * Id * Z5 * Z6\\\n",
    "#     + a * Z1 * Id * Id * Z4 * Z5 * Id\\\n",
    "#     - b * Z1 * Id * Id * Z4 * Z5 * Z6\\\n",
    "#     + d * Z1 * Id * Z3 * Id * Z5 * Id\\\n",
    "#     + d * Z1 * Id * Z3 * Id * Z5 * Z6\\\n",
    "#     + d * Z1 * Id * Z3 * Z4 * Z5 * Id\\\n",
    "#     + d * Z1 * Id * Z3 * Z4 * Z5 * Z6\\\n",
    "#     + a * Z1 * Z2 * Id * Id * Z5 * Id\\\n",
    "#     - b * Z1 * Z2 * Id * Id * Z5 * Z6\\\n",
    "#     - e * Z1 * Z2 * Id * Z4 * Id * Id\\\n",
    "#     + e * Z1 * Z2 * Id * Z4 * Id * Z6\\\n",
    "#     + d * Z1 * Z2 * Id * Z4 * Z5 * Id\\\n",
    "#     + d * Z1 * Z2 * Id * Z4 * Z5 * Z6\\\n",
    "#     - d * Z1 * Z2 * Z3 * Id * Z5 * Id\\\n",
    "#     - d * Z1 * Z2 * Z3 * Id * Z5 * Z6\\\n",
    "#     + f * Z1 * Z2 * Z3 * Z4 * Id * Id\\\n",
    "#     + g * Z1 * Z2 * Z3 * Z4 * Id * Z6\\\n",
    "#     + a * Z1 * Z2 * Z3 * Z4 * Z5 * Id\\\n",
    "#     - b * Z1 * Z2 * Z3 * Z4 * Z5 * Z6\n",
    "\n",
    "trace_gate =\\\n",
    "      a * Z1 * Z2 * Z3 * Z4 * Z5\\\n",
    "    - b * Z1 * Z2 * Z3 * Z4 * Z5 * Z6\\\n",
    "    + f * Z1 * Z2 * Z3 * Z4\\\n",
    "    + g * Z1 * Z2 * Z3 * Z4 * Z6\\\n",
    "    - d * Z1 * Z2 * Z3 * Z5\\\n",
    "    - d * Z1 * Z2 * Z3 * Z5 * Z6\\\n",
    "    - e * Z1 * Z2 * Z4\\\n",
    "    + d * Z1 * Z2 * Z4 * Z5\\\n",
    "    + d * Z1 * Z2 * Z4 * Z5 * Z6\\\n",
    "    + e * Z1 * Z2 * Z4 * Z6\\\n",
    "    + a * Z1 * Z2 * Z5\\\n",
    "    - b * Z1 * Z2 * Z5 * Z6\\\n",
    "    + d * Z1 * Z3 * Z4 * Z5\\\n",
    "    + d * Z1 * Z3 * Z4 * Z5 * Z6\\\n",
    "    + d * Z1 * Z3 * Z5\\\n",
    "    + d * Z1 * Z3 * Z5 * Z6\\\n",
    "    + a * Z1 * Z4 * Z5\\\n",
    "    - b * Z1 * Z4 * Z5 * Z6\\\n",
    "    + a * Z1 * Z5\\\n",
    "    - b * Z1 * Z5 * Z6"
   ]
  },
  {
   "cell_type": "code",
   "execution_count": 3,
   "id": "a9b64909-1787-4e94-b42b-63794d3c6bc4",
   "metadata": {
    "tags": []
   },
   "outputs": [
    {
     "data": {
      "text/plain": [
       "-b Z_{1} Z_{2} Z_{3} Z_{4} Z_{5} Z_{6} + a Z_{1} Z_{2} Z_{3} Z_{4} Z_{5} - d Z_{1} Z_{2} Z_{3} Z_{5} Z_{6} + d Z_{1} Z_{2} Z_{4} Z_{5} Z_{6} + d Z_{1} Z_{3} Z_{4} Z_{5} Z_{6} + g Z_{1} Z_{2} Z_{3} Z_{4} Z_{6} - b Z_{1} Z_{2} Z_{5} Z_{6} - b Z_{1} Z_{4} Z_{5} Z_{6} - d Z_{1} Z_{2} Z_{3} Z_{5} + d Z_{1} Z_{2} Z_{4} Z_{5} + d Z_{1} Z_{3} Z_{4} Z_{5} + d Z_{1} Z_{3} Z_{5} Z_{6} + e Z_{1} Z_{2} Z_{4} Z_{6} + f Z_{1} Z_{2} Z_{3} Z_{4} + a Z_{1} Z_{2} Z_{5} + a Z_{1} Z_{4} Z_{5} - b Z_{1} Z_{5} Z_{6} + d Z_{1} Z_{3} Z_{5} - e Z_{1} Z_{2} Z_{4} + a Z_{1} Z_{5}"
      ]
     },
     "execution_count": 3,
     "metadata": {},
     "output_type": "execute_result"
    }
   ],
   "source": [
    "latex(trace_gate)"
   ]
  },
  {
   "cell_type": "code",
   "execution_count": 4,
   "id": "11b1e530-c3f1-4e63-906e-934651f9bcf7",
   "metadata": {
    "tags": []
   },
   "outputs": [
    {
     "data": {
      "text/plain": [
       "-b*Z1*Z2*Z3*Z4*Z5*Z6 + a*Z1*Z2*Z3*Z4*Z5 - d*Z1*Z2*Z3*Z5*Z6 + d*Z1*Z2*Z4*Z5*Z6 + d*Z1*Z3*Z4*Z5*Z6 + g*Z1*Z2*Z3*Z4*Z6 - b*Z1*Z2*Z5*Z6 - b*Z1*Z4*Z5*Z6 - d*Z1*Z2*Z3*Z5 + d*Z1*Z2*Z4*Z5 + d*Z1*Z3*Z4*Z5 + d*Z1*Z3*Z5*Z6 + e*Z1*Z2*Z4*Z6 + f*Z1*Z2*Z3*Z4 + a*Z1*Z2*Z5 + a*Z1*Z4*Z5 - b*Z1*Z5*Z6 + d*Z1*Z3*Z5 - e*Z1*Z2*Z4 + a*Z1*Z5"
      ]
     },
     "execution_count": 4,
     "metadata": {},
     "output_type": "execute_result"
    }
   ],
   "source": [
    "trace_gate.reduce(ideal(Id - 1))"
   ]
  },
  {
   "cell_type": "code",
   "execution_count": 5,
   "id": "e9a5d20a-4d14-49e3-aca3-8855a63bf8d3",
   "metadata": {
    "tags": []
   },
   "outputs": [
    {
     "data": {
      "text/plain": [
       "(-1) * (b*Z2*Z3*Z4*Z5*Z6 - a*Z2*Z3*Z4*Z5 + d*Z2*Z3*Z5*Z6 - d*Z2*Z4*Z5*Z6 - d*Z3*Z4*Z5*Z6 - g*Z2*Z3*Z4*Z6 + b*Z2*Z5*Z6 + b*Z4*Z5*Z6 + d*Z2*Z3*Z5 - d*Z2*Z4*Z5 - d*Z3*Z4*Z5 - d*Z3*Z5*Z6 - e*Z2*Z4*Z6 - f*Z2*Z3*Z4 - a*Z2*Z5 - a*Z4*Z5 + b*Z5*Z6 - d*Z3*Z5 + e*Z2*Z4 - a*Z5)"
      ]
     },
     "execution_count": 5,
     "metadata": {},
     "output_type": "execute_result"
    }
   ],
   "source": [
    "trace_gate.reduce(ideal(Id - 1,Z1 - 1)).factor()"
   ]
  },
  {
   "cell_type": "code",
   "execution_count": 6,
   "id": "b97ad4fe-ace8-4a7e-909b-fbb37b8f9fd8",
   "metadata": {
    "tags": []
   },
   "outputs": [
    {
     "data": {
      "text/plain": [
       "-b*Z2*Z3*Z4*Z5*Z6 + a*Z2*Z3*Z4*Z5 - d*Z2*Z3*Z5*Z6 + d*Z2*Z4*Z5*Z6 + d*Z3*Z4*Z5*Z6 + g*Z2*Z3*Z4*Z6 - b*Z2*Z5*Z6 - b*Z4*Z5*Z6 - d*Z2*Z3*Z5 + d*Z2*Z4*Z5 + d*Z3*Z4*Z5 + d*Z3*Z5*Z6 + e*Z2*Z4*Z6 + f*Z2*Z3*Z4 + a*Z2*Z5 + a*Z4*Z5 - b*Z5*Z6 + d*Z3*Z5 - e*Z2*Z4 + a*Z5"
      ]
     },
     "execution_count": 6,
     "metadata": {},
     "output_type": "execute_result"
    }
   ],
   "source": [
    "trace_gate.reduce(ideal(Id - 1, Z1 - 1))"
   ]
  },
  {
   "cell_type": "code",
   "execution_count": 7,
   "id": "b9c19032-8ca8-48b0-870f-9b16ace4e27a",
   "metadata": {
    "tags": []
   },
   "outputs": [
    {
     "data": {
      "text/plain": [
       "-b*Z4*Z5*Z6 + a*Z4*Z5 - b*Z5*Z6 + a*Z5"
      ]
     },
     "execution_count": 7,
     "metadata": {},
     "output_type": "execute_result"
    }
   ],
   "source": [
    "trace_gate.reduce(ideal(Id - 1, Z1 - 1, Z2 ,Z3))"
   ]
  },
  {
   "cell_type": "code",
   "execution_count": 8,
   "id": "196768a0-7591-4561-92da-f5d2d502c0bd",
   "metadata": {
    "tags": []
   },
   "outputs": [
    {
     "data": {
      "text/plain": [
       "a"
      ]
     },
     "execution_count": 8,
     "metadata": {},
     "output_type": "execute_result"
    }
   ],
   "source": [
    "a"
   ]
  },
  {
   "cell_type": "code",
   "execution_count": 9,
   "id": "7eead62e-596b-4390-a78a-c1867ca2786a",
   "metadata": {
    "tags": []
   },
   "outputs": [
    {
     "data": {
      "text/plain": [
       "b"
      ]
     },
     "execution_count": 9,
     "metadata": {},
     "output_type": "execute_result"
    }
   ],
   "source": [
    "b"
   ]
  },
  {
   "cell_type": "code",
   "execution_count": 10,
   "id": "0017c188-0478-4ede-993a-cc64e133d3e9",
   "metadata": {
    "tags": []
   },
   "outputs": [
    {
     "data": {
      "text/plain": [
       "d"
      ]
     },
     "execution_count": 10,
     "metadata": {},
     "output_type": "execute_result"
    }
   ],
   "source": [
    "d"
   ]
  },
  {
   "cell_type": "code",
   "execution_count": 11,
   "id": "03807cfb-f142-4924-b273-00e8e2dbe0bf",
   "metadata": {
    "tags": []
   },
   "outputs": [
    {
     "data": {
      "text/plain": [
       "e"
      ]
     },
     "execution_count": 11,
     "metadata": {},
     "output_type": "execute_result"
    }
   ],
   "source": [
    "e"
   ]
  },
  {
   "cell_type": "code",
   "execution_count": 12,
   "id": "a9a6976c-6c7d-4f5f-9209-bcee74f71b79",
   "metadata": {
    "tags": []
   },
   "outputs": [
    {
     "data": {
      "text/plain": [
       "f"
      ]
     },
     "execution_count": 12,
     "metadata": {},
     "output_type": "execute_result"
    }
   ],
   "source": [
    "f"
   ]
  },
  {
   "cell_type": "code",
   "execution_count": 13,
   "id": "eb7ad805-96ea-455b-a06b-e59aa35d968f",
   "metadata": {
    "tags": []
   },
   "outputs": [
    {
     "data": {
      "text/plain": [
       "g"
      ]
     },
     "execution_count": 13,
     "metadata": {},
     "output_type": "execute_result"
    }
   ],
   "source": [
    "g"
   ]
  },
  {
   "cell_type": "code",
   "execution_count": 14,
   "id": "b9306d7b-ace8-48c7-a031-b5dcf91d543c",
   "metadata": {
    "tags": []
   },
   "outputs": [
    {
     "data": {
      "text/plain": [
       "(-1) * Z1 * (b*Z2*Z3*Z4*Z5*Z6 - a*Z2*Z3*Z4*Z5 + d*Z2*Z3*Z5*Z6 - d*Z2*Z4*Z5*Z6 - d*Z3*Z4*Z5*Z6 - g*Z2*Z3*Z4*Z6 + b*Z2*Z5*Z6 + b*Z4*Z5*Z6 + d*Z2*Z3*Z5 - d*Z2*Z4*Z5 - d*Z3*Z4*Z5 - d*Z3*Z5*Z6 - e*Z2*Z4*Z6 - f*Z2*Z3*Z4 - a*Z2*Z5 - a*Z4*Z5 + b*Z5*Z6 - d*Z3*Z5 + e*Z2*Z4 - a*Z5)"
      ]
     },
     "execution_count": 14,
     "metadata": {},
     "output_type": "execute_result"
    }
   ],
   "source": [
    "trace_gate.factor()"
   ]
  },
  {
   "cell_type": "code",
   "execution_count": null,
   "id": "b2743a92-8c81-48d5-a9f1-4af85d1b5e16",
   "metadata": {},
   "outputs": [],
   "source": []
  },
  {
   "cell_type": "code",
   "execution_count": null,
   "id": "bf9a7127-5b4c-4a69-bc9b-0febdc0f2a8c",
   "metadata": {},
   "outputs": [],
   "source": []
  }
 ],
 "metadata": {
  "kernelspec": {
   "display_name": "SageMath 9.7",
   "language": "sage",
   "name": "sagemath"
  },
  "language_info": {
   "codemirror_mode": {
    "name": "ipython",
    "version": 3
   },
   "file_extension": ".py",
   "mimetype": "text/x-python",
   "name": "python",
   "nbconvert_exporter": "python",
   "pygments_lexer": "ipython3",
   "version": "3.10.5"
  }
 },
 "nbformat": 4,
 "nbformat_minor": 5
}
