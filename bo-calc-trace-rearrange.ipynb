{
 "cells": [
  {
   "cell_type": "markdown",
   "id": "1ab73071",
   "metadata": {},
   "source": [
    "# Calculating Trace\n",
    "\n",
    "Our goal is to produce a polynomial function which, when fed the binary representation of a group element, produces the trace of that element. For our chosen group representation of $\\mathbb{2O}$, the binary octahedral group, there are 8 possible traces. Namely $\\pm{0},\\pm{1},\\pm{2}$, and $\\pm{\\sqrt{2}}$, which we shall denote as $T$ for now. \n",
    "\n",
    "Each element of a finite collection $X$ can be described by some map $\\mathbb{Z_2^{|X|}} \\rightarrow X$, which assigns a binary \"address\" to each element of $X$. In particular we have that $\\mathbb{2O}$ (the binary octahedral group) is addressed by $\\mathbb{Z_2^6}$, and our set of traces by $\\mathbb{Z_2^3}$. Given a choice of address functions \n",
    "$$\\text{group_addr} \\colon \\mathbb{Z_2^6} \\rightarrow \\mathbb{2O}$$\n",
    "$$\\text{trace_addr} \\colon \\mathbb{Z_2^3} \\rightarrow T$$\n",
    "and the trace map $$\\text{Tr} \\colon \\mathbb{2O} \\rightarrow T$$\n",
    "we can rephrase our goal as finding a pullback map $f \\colon \\mathbb{Z_2^6} \\rightarrow \\mathbb{Z_2^3}$ such that\n",
    "$$\\text{Tr} \\circ \\text{group_addr} = \\text{trace_addr} \\circ f$$\n",
    "\n",
    "To do this we start by defining our two rings of functions. The way theyre instatiated is purely for computation purposes and not important."
   ]
  },
  {
   "cell_type": "code",
   "execution_count": 3,
   "id": "657a48d1",
   "metadata": {
    "tags": []
   },
   "outputs": [],
   "source": [
    "from sage.rings.polynomial.pbori.pbori import BooleSet\n",
    "import json\n",
    "import itertools\n",
    "import pandas as pd\n",
    "import numpy as np"
   ]
  },
  {
   "cell_type": "code",
   "execution_count": 4,
   "id": "fdc7ec39",
   "metadata": {
    "tags": []
   },
   "outputs": [],
   "source": [
    "Z2_6.<w1,w2,w3,w4,w5,w6> = BooleanPolynomialRing(6)\n",
    "R_3.<v1,v2,v3> = PolynomialRing(RR)"
   ]
  },
  {
   "cell_type": "markdown",
   "id": "db74286a",
   "metadata": {},
   "source": [
    "Here we define out trace address function. This is an arbitrary choice; we just need a polynomial that picks out each trace in some order as we count up in binary."
   ]
  },
  {
   "cell_type": "code",
   "execution_count": 5,
   "id": "bd5a5957",
   "metadata": {
    "tags": []
   },
   "outputs": [],
   "source": [
    "#trace_polynomial = 1*v1*(1-v2)*v3 - 1*v1*(1-v2)*(1-v3) + sqrt(2)*(1-v1)*v2*v3 - sqrt(2)*(1-v1)*v2*(1-v3) + 2*(1-v1)*(1-v2)*v3 - 2*(1-v1)*(1-v2)*(1-v3)\n",
    "\n",
    "# trace_polynomial =\\\n",
    "# - 2 * v1 * v2 * v3 \\\n",
    "# + sqrt(2) * v1 * (v2-1) * v3 \\\n",
    "# + 1 * (v1-1) * v2 * v3 \\\n",
    "# + 0 * (v1-1) * (v2-1) * v3 \\\n",
    "# - 2 * v1 * v2 * (v3-1) \\\n",
    "# + sqrt(2) * v1 * (v2-1) * (v3-1) \\\n",
    "# + 1 * (v1-1) * v2 * (v3-1) \\\n",
    "# + 0 * (v1-1) * (v2-1) * (v3-1)\n",
    "\n",
    "trace_polynomial = (\n",
    "  0 * (v1-1) * (v2-1) * (v3-1) #000\n",
    "+ 0 * (v1-1) * (v2-1) * v3 #001\n",
    "+ 2 * (v1-1) * v2 * (v3-1) #010\n",
    "+ 2 * (v1-1) * v2 * v3 #011\n",
    "+ 1 * v1 * (v2-1) * (v3-1) #100\n",
    "+ 1 * v1 * (v2-1) * v3 #101\n",
    "- sqrt(2) * v1 * v2 * (v3-1) #110\n",
    "- sqrt(2) * v1 * v2 * v3 #111\n",
    ")\n",
    "\n",
    "# trace_polynomial = (\n",
    "#   0 * (v1-1) * (v2-1) * (v3-1) #000\n",
    "# - 0 * v1 * (v2-1) * (v3-1) #100\n",
    "# + 2 * (v1-1) * v2 * (v3-1) #010\n",
    "# + 2 * v1 * v2 * (v3-1) #110\n",
    "# + 1 * (v1-1) * (v2-1) * v3 #001\n",
    "# + 1 * v1 * (v2-1) * v3 #101\n",
    "# - sqrt(2) * (v1-1) * v2 * v3 #011\n",
    "# - sqrt(2) * v1 * v2 * v3 #111\n",
    "# )"
   ]
  },
  {
   "cell_type": "markdown",
   "id": "9268f392",
   "metadata": {},
   "source": [
    "Here we define out matrix elements directly. We will omit the actual map $\\mathbb{Z_2^6} \\rightarrow \\mathbb{2O}$, as it ends up being implicit in how we construct our dataset later on."
   ]
  },
  {
   "cell_type": "code",
   "execution_count": 6,
   "id": "0960ee7e",
   "metadata": {
    "tags": []
   },
   "outputs": [],
   "source": [
    "m1 = Matrix([[1,0],\n",
    "             [0,1]])\n",
    "\n",
    "mi = Matrix([[0, 1j],\n",
    "             [1j,0]])\n",
    "\n",
    "mj = Matrix([[0,1],\n",
    "             [-1,0]])\n",
    "\n",
    "mk = Matrix([[1j, 0],\n",
    "             [0, -1j]])\n",
    "\n",
    "mu = -1/2 * ((m1) + mi + mj + mk)\n",
    "\n",
    "mt = 1/sqrt(2) * (m1 + mi)"
   ]
  },
  {
   "cell_type": "markdown",
   "id": "0493ec04",
   "metadata": {},
   "source": [
    "We produce a table of inputs and outputs for our trace_address function."
   ]
  },
  {
   "cell_type": "code",
   "execution_count": 7,
   "id": "b5c43227",
   "metadata": {
    "tags": []
   },
   "outputs": [],
   "source": [
    "traces = pd.DataFrame([{\"trace\" : trace_polynomial(v1=p1,v2=p2,v3=p3),\n",
    "                        \"v1\" : p1,\n",
    "                        \"v2\" : p2,\n",
    "                        \"v3\" : p3 } for p1, p2, p3 in itertools.product(range(2),range(2),range(2))])"
   ]
  },
  {
   "cell_type": "markdown",
   "id": "e5bf7747",
   "metadata": {},
   "source": [
    "Here we produce the table of elements alongside their various representations, trace, and standard address digits. The map to the reprsentation from the address space is implicit here, as we construct those elements via the same iterator."
   ]
  },
  {
   "cell_type": "code",
   "execution_count": 8,
   "id": "a370ef14",
   "metadata": {
    "tags": []
   },
   "outputs": [],
   "source": [
    "trace_table = pd.DataFrame([{ \"melement\" : (-m1)^p1 * mj^p2 * mk^p3 * mu^(2 * p4 + p5) * mt^p6,\n",
    "                              \"trace\" : 0 if (p4 == 1 and p5 == 1) else ((-m1)^p1 * mj^p2 * mk^p3 * mu^(2 * p4 + p5) * mt^p6).trace(),                         \n",
    "                              \"w1\" : p1,\n",
    "                              \"w2\" : p2,\n",
    "                              \"w3\" : p3,\n",
    "                              \"w4\" : p4,\n",
    "                              \"w5\" : p5,\n",
    "                              \"w6\" : p6 }\n",
    "                                              for p1, p2, p3, p4, p5, p6\n",
    "                                              in itertools.product(range(2),range(2),range(2),range(2),range(2),range(2))])\n",
    "\n",
    "#Exclude the cases that do not occur\n",
    "trace_table = trace_table[(trace_table.w4 + trace_table.w5) != 2]\n",
    "\n",
    "#Exclude negative (degen) values\n",
    "#trace_table = trace_table[trace_table.w1 != 1]"
   ]
  },
  {
   "cell_type": "markdown",
   "id": "4c870a37",
   "metadata": {},
   "source": [
    "Now we join the tables across the common trace, so that we can associate the 6 bit standard form to the 3 bit trace form. This gives the data of the map $f$ that we are after. We can pair the element, its trace, its 6 bit representation, and its 3 bit representation in each record."
   ]
  },
  {
   "cell_type": "code",
   "execution_count": 9,
   "id": "8108dabc",
   "metadata": {
    "tags": []
   },
   "outputs": [],
   "source": [
    "trace_table_idens = traces.join(trace_table.set_index(\"trace\"), on = \"trace\")"
   ]
  },
  {
   "cell_type": "markdown",
   "id": "a8dfa938",
   "metadata": {},
   "source": [
    "We generate polynomials mapping the standard bit representation to the correspondong trace representation. Each one one component of $f$."
   ]
  },
  {
   "cell_type": "code",
   "execution_count": 10,
   "id": "52217535",
   "metadata": {
    "tags": []
   },
   "outputs": [],
   "source": [
    "trace_poly_v1_zeros = trace_table_idens[trace_table_idens.v1 == 0].loc[:,[\"w1\",\"w2\",\"w3\",\"w4\",\"w5\",\"w6\"]].values\n",
    "trace_poly_v1_zeros = set(list(map(tuple, trace_poly_v1_zeros)))\n",
    "trace_poly_v1_ones = trace_table_idens[trace_table_idens.v1 == 1].loc[:,[\"w1\",\"w2\",\"w3\",\"w4\",\"w5\",\"w6\"]].values\n",
    "trace_poly_v1_ones = set(list(map(tuple, trace_poly_v1_ones)))\n",
    "\n",
    "trace_poly_v2_zeros = trace_table_idens[trace_table_idens.v2 == 0].loc[:,[\"w1\",\"w2\",\"w3\",\"w4\",\"w5\",\"w6\"]].values\n",
    "trace_poly_v2_zeros = set(list(map(tuple, trace_poly_v2_zeros)))\n",
    "trace_poly_v2_ones = trace_table_idens[trace_table_idens.v2 == 1].loc[:,[\"w1\",\"w2\",\"w3\",\"w4\",\"w5\",\"w6\"]].values\n",
    "trace_poly_v2_ones = set(list(map(tuple, trace_poly_v2_ones)))\n",
    "\n",
    "trace_poly_v3_zeros = trace_table_idens[trace_table_idens.v3 == 0].loc[:,[\"w1\",\"w2\",\"w3\",\"w4\",\"w5\",\"w6\"]].values\n",
    "trace_poly_v3_zeros = set(list(map(tuple, trace_poly_v3_zeros)))\n",
    "trace_poly_v3_ones = trace_table_idens[trace_table_idens.v3 == 1].loc[:,[\"w1\",\"w2\",\"w3\",\"w4\",\"w5\",\"w6\"]].values\n",
    "trace_poly_v3_ones = set(list(map(tuple, trace_poly_v3_ones)))"
   ]
  },
  {
   "cell_type": "code",
   "execution_count": 11,
   "id": "d835222b",
   "metadata": {
    "tags": []
   },
   "outputs": [],
   "source": [
    "trace_poly_v1 = Z2_6.interpolation_polynomial(trace_poly_v1_zeros, trace_poly_v1_ones)\n",
    "trace_poly_v2 = Z2_6.interpolation_polynomial(trace_poly_v2_zeros, trace_poly_v2_ones)\n",
    "#Currently cases the Sage kernel to crash if uncommented.\n",
    "#trace_poly_v3 = Z2_6.interpolation_polynomial(trace_poly_v3_zeros, trace_poly_v3_ones)"
   ]
  },
  {
   "cell_type": "markdown",
   "id": "439834a2",
   "metadata": {},
   "source": [
    "Finally we put it all togeth in a test. Each component function $v_i$ when fed an address, should give a component of the address according to our chosen trace address. So with all 3, we should be able to pick it out."
   ]
  },
  {
   "cell_type": "code",
   "execution_count": 25,
   "id": "550cf70a",
   "metadata": {
    "tags": []
   },
   "outputs": [
    {
     "ename": "NameError",
     "evalue": "name 'trace_poly_v3' is not defined",
     "output_type": "error",
     "traceback": [
      "\u001b[0;31m---------------------------------------------------------------------------\u001b[0m",
      "\u001b[0;31mNameError\u001b[0m                                 Traceback (most recent call last)",
      "Input \u001b[0;32mIn [25]\u001b[0m, in \u001b[0;36m<cell line: 2>\u001b[0;34m()\u001b[0m\n\u001b[1;32m     10\u001b[0m tmp1 \u001b[38;5;241m=\u001b[39m RR(trace_poly_v1(p1,p2,p3,p4,p5,p6))\n\u001b[1;32m     11\u001b[0m tmp2 \u001b[38;5;241m=\u001b[39m RR(trace_poly_v2(p1,p2,p3,p4,p5,p6))\n\u001b[0;32m---> 12\u001b[0m tmp3 \u001b[38;5;241m=\u001b[39m RR(\u001b[43mtrace_poly_v3\u001b[49m(p1,p2,p3,p4,p5,p6))\n\u001b[1;32m     14\u001b[0m \u001b[38;5;28;01mif\u001b[39;00m (p4 \u001b[38;5;129;01mand\u001b[39;00m p5):\n\u001b[1;32m     15\u001b[0m     \u001b[38;5;28;01mcontinue\u001b[39;00m\n",
      "\u001b[0;31mNameError\u001b[0m: name 'trace_poly_v3' is not defined"
     ]
    }
   ],
   "source": [
    "results = []\n",
    "for p1, p2, p3, p4, p5, p6 in list(itertools.product(range(2),\n",
    "                                                     range(2),\n",
    "                                                     range(2),\n",
    "                                                     range(2),\n",
    "                                                     range(2),\n",
    "                                                     range(2))):\n",
    "    #Ignore impossible case (where our polys fail!)\n",
    "    \n",
    "    tmp1 = RR(trace_poly_v1(p1,p2,p3,p4,p5,p6))\n",
    "    tmp2 = RR(trace_poly_v2(p1,p2,p3,p4,p5,p6))\n",
    "    tmp3 = RR(trace_poly_v3(p1,p2,p3,p4,p5,p6))\n",
    "    \n",
    "    if (p4 and p5):\n",
    "        continue\n",
    "    test = canonical_trace_poly(v1=tmp1,v2=tmp2,v3=tmp3)\n",
    "        \n",
    "    ground_mat = ((-m1)^p1 * mj^p2 * mk^p3 * mu^(2 * p4 + p5) * mt^p6)\n",
    "    ground = ground_mat.trace()\n",
    "    results.append([ground_mat,ground,test])\n",
    "\n",
    "print(all(results))"
   ]
  },
  {
   "cell_type": "code",
   "execution_count": 29,
   "id": "bda367b2-6802-46d0-bddb-8c0d26e02eae",
   "metadata": {
    "tags": []
   },
   "outputs": [
    {
     "data": {
      "text/plain": [
       "{(0, 0, 0, 0, 1, 1),\n",
       " (0, 0, 1, 0, 0, 0),\n",
       " (0, 0, 1, 0, 0, 1),\n",
       " (0, 1, 0, 0, 0, 0),\n",
       " (0, 1, 0, 0, 0, 1),\n",
       " (0, 1, 0, 0, 1, 1),\n",
       " (0, 1, 0, 1, 0, 1),\n",
       " (0, 1, 1, 0, 0, 0),\n",
       " (0, 1, 1, 1, 0, 1),\n",
       " (1, 0, 0, 0, 1, 1),\n",
       " (1, 0, 1, 0, 0, 0),\n",
       " (1, 0, 1, 0, 0, 1),\n",
       " (1, 1, 0, 0, 0, 0),\n",
       " (1, 1, 0, 0, 0, 1),\n",
       " (1, 1, 0, 0, 1, 1),\n",
       " (1, 1, 0, 1, 0, 1),\n",
       " (1, 1, 1, 0, 0, 0),\n",
       " (1, 1, 1, 1, 0, 1)}"
      ]
     },
     "execution_count": 29,
     "metadata": {},
     "output_type": "execute_result"
    }
   ],
   "source": [
    "trace_poly_v3_zeros.intersection(trace_poly_v3_ones)"
   ]
  },
  {
   "cell_type": "code",
   "execution_count": 30,
   "id": "96320f42-d4b5-45ba-bd54-5f9c764ef13c",
   "metadata": {
    "tags": []
   },
   "outputs": [
    {
     "data": {
      "text/html": [
       "<div>\n",
       "<style scoped>\n",
       "    .dataframe tbody tr th:only-of-type {\n",
       "        vertical-align: middle;\n",
       "    }\n",
       "\n",
       "    .dataframe tbody tr th {\n",
       "        vertical-align: top;\n",
       "    }\n",
       "\n",
       "    .dataframe thead th {\n",
       "        text-align: right;\n",
       "    }\n",
       "</style>\n",
       "<table border=\"1\" class=\"dataframe\">\n",
       "  <thead>\n",
       "    <tr style=\"text-align: right;\">\n",
       "      <th></th>\n",
       "      <th>trace</th>\n",
       "      <th>v1</th>\n",
       "      <th>v2</th>\n",
       "      <th>v3</th>\n",
       "    </tr>\n",
       "  </thead>\n",
       "  <tbody>\n",
       "    <tr>\n",
       "      <th>0</th>\n",
       "      <td>0</td>\n",
       "      <td>0</td>\n",
       "      <td>0</td>\n",
       "      <td>0</td>\n",
       "    </tr>\n",
       "    <tr>\n",
       "      <th>1</th>\n",
       "      <td>1.00000000000000</td>\n",
       "      <td>0</td>\n",
       "      <td>0</td>\n",
       "      <td>1</td>\n",
       "    </tr>\n",
       "    <tr>\n",
       "      <th>2</th>\n",
       "      <td>2.00000000000000</td>\n",
       "      <td>0</td>\n",
       "      <td>1</td>\n",
       "      <td>0</td>\n",
       "    </tr>\n",
       "    <tr>\n",
       "      <th>3</th>\n",
       "      <td>1.00000000000000*sqrt(2)</td>\n",
       "      <td>0</td>\n",
       "      <td>1</td>\n",
       "      <td>1</td>\n",
       "    </tr>\n",
       "    <tr>\n",
       "      <th>4</th>\n",
       "      <td>0</td>\n",
       "      <td>1</td>\n",
       "      <td>0</td>\n",
       "      <td>0</td>\n",
       "    </tr>\n",
       "    <tr>\n",
       "      <th>5</th>\n",
       "      <td>-1.00000000000000</td>\n",
       "      <td>1</td>\n",
       "      <td>0</td>\n",
       "      <td>1</td>\n",
       "    </tr>\n",
       "    <tr>\n",
       "      <th>6</th>\n",
       "      <td>-2.00000000000000</td>\n",
       "      <td>1</td>\n",
       "      <td>1</td>\n",
       "      <td>0</td>\n",
       "    </tr>\n",
       "    <tr>\n",
       "      <th>7</th>\n",
       "      <td>-1.00000000000000*sqrt(2)</td>\n",
       "      <td>1</td>\n",
       "      <td>1</td>\n",
       "      <td>1</td>\n",
       "    </tr>\n",
       "  </tbody>\n",
       "</table>\n",
       "</div>"
      ],
      "text/plain": [
       "                       trace  v1  v2  v3\n",
       "0                          0   0   0   0\n",
       "1           1.00000000000000   0   0   1\n",
       "2           2.00000000000000   0   1   0\n",
       "3   1.00000000000000*sqrt(2)   0   1   1\n",
       "4                          0   1   0   0\n",
       "5          -1.00000000000000   1   0   1\n",
       "6          -2.00000000000000   1   1   0\n",
       "7  -1.00000000000000*sqrt(2)   1   1   1"
      ]
     },
     "execution_count": 30,
     "metadata": {},
     "output_type": "execute_result"
    }
   ],
   "source": [
    "traces"
   ]
  },
  {
   "cell_type": "code",
   "execution_count": 14,
   "id": "267bd97c-a810-427e-8a22-39784cebe50e",
   "metadata": {
    "tags": []
   },
   "outputs": [
    {
     "data": {
      "text/plain": [
       "1.00000000000000*sqrt(2)"
      ]
     },
     "execution_count": 14,
     "metadata": {},
     "output_type": "execute_result"
    }
   ],
   "source": [
    "trace_polynomial(v1=1,v2=1,v3=1)"
   ]
  },
  {
   "cell_type": "code",
   "execution_count": 17,
   "id": "22a0c975-3aab-41a4-bf9c-e844d58ba99c",
   "metadata": {
    "tags": []
   },
   "outputs": [
    {
     "data": {
      "text/plain": [
       "w_{2} w_{3} w_{4} w_{6} + w_{2} w_{3} w_{4} + w_{2} w_{3} w_{5} w_{6} + w_{2} w_{3} w_{5} + w_{2} w_{3} w_{6} + w_{2} w_{3} + w_{2} w_{4} w_{6} + w_{2} w_{4} + w_{2} w_{5} + w_{2} + w_{3} w_{4} + w_{3} w_{5} w_{6} + w_{3} w_{5} + w_{3} + w_{4} w_{6} + w_{4} + w_{5} + 1"
      ]
     },
     "execution_count": 17,
     "metadata": {},
     "output_type": "execute_result"
    }
   ],
   "source": [
    "latex(trace_poly_v2)"
   ]
  },
  {
   "cell_type": "code",
   "execution_count": null,
   "id": "b6a0be42-c081-48cc-ac53-445546454b5e",
   "metadata": {},
   "outputs": [],
   "source": []
  }
 ],
 "metadata": {
  "kernelspec": {
   "display_name": "SageMath 9.7",
   "language": "sage",
   "name": "sagemath"
  },
  "language_info": {
   "codemirror_mode": {
    "name": "ipython",
    "version": 3
   },
   "file_extension": ".py",
   "mimetype": "text/x-python",
   "name": "python",
   "nbconvert_exporter": "python",
   "pygments_lexer": "ipython3",
   "version": "3.10.5"
  }
 },
 "nbformat": 4,
 "nbformat_minor": 5
}
