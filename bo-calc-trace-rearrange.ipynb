{
 "cells": [
  {
   "cell_type": "code",
   "execution_count": 1,
   "id": "657a48d1",
   "metadata": {},
   "outputs": [],
   "source": [
    "from sage.rings.polynomial.pbori.pbori import BooleSet\n",
    "import json\n",
    "import itertools\n",
    "import pandas as pd\n",
    "import numpy as np"
   ]
  },
  {
   "cell_type": "markdown",
   "id": "1ab73071",
   "metadata": {},
   "source": [
    "# Calculating Trace\n",
    "\n",
    "Our goal is to produce a polynomial function which, when fed the binary representation of a group element, produces the trace of that element. For our chosen group representation of $\\mathbb{2O}$, the binary octahedral group, there are 8 possible traces. Namely $\\pm{0},\\pm{1},\\pm{2}$, and $\\pm{\\sqrt{2}}$, which we shall denote as $T$ for now. \n",
    "\n",
    "Each element of a finite collection $X$ can be described by some map $\\mathbb{Z_2^{|X|}} \\rightarrow X$, which assigns a binary \"address\" to each element of $X$. In particular we have that $\\mathbb{2O}$ (the binary octahedral group) is addressed by $\\mathbb{Z_2^6}$, and our set of traces by $\\mathbb{Z_2^3}$. Given a choice of address functions \n",
    "$$\\text{group_addr} \\colon \\mathbb{Z_2^6} \\rightarrow \\mathbb{2O}$$\n",
    "$$\\text{trace_addr} \\colon \\mathbb{Z_2^3} \\rightarrow T$$\n",
    "and the trace map $$\\text{Tr} \\colon \\mathbb{2O} \\rightarrow T$$\n",
    "we can rephrase our goal as finding a pullback map $f \\colon \\mathbb{Z_2^6} \\rightarrow \\mathbb{Z_2^3}$ such that\n",
    "$$\\text{Tr} \\circ \\text{group_addr} = \\text{trace_addr} \\circ f$$\n",
    "\n",
    "To do this we start by defining our two rings of functions. The way theyre instatiated is purely for computation purposes and not important."
   ]
  },
  {
   "cell_type": "code",
   "execution_count": 2,
   "id": "fdc7ec39",
   "metadata": {},
   "outputs": [],
   "source": [
    "Z2_6.<w1,w2,w3,w4,w5,w6> = BooleanPolynomialRing(6)\n",
    "R_3.<v1,v2,v3> = PolynomialRing(RR)"
   ]
  },
  {
   "cell_type": "markdown",
   "id": "db74286a",
   "metadata": {},
   "source": [
    "Here we define out trace address function"
   ]
  },
  {
   "cell_type": "code",
   "execution_count": 3,
   "id": "bd5a5957",
   "metadata": {},
   "outputs": [],
   "source": [
    "canonical_trace_poly = 1*v1*(1-v2)*v3 - 1*v1*(1-v2)*(1-v3) + sqrt(2)*(1-v1)*v2*v3 - sqrt(2)*(1-v1)*v2*(1-v3) + 2*(1-v1)*(1-v2)*v3 - 2*(1-v1)*(1-v2)*(1-v3)"
   ]
  },
  {
   "cell_type": "markdown",
   "id": "9268f392",
   "metadata": {},
   "source": [
    "Here we define out matrix elements directly. We will omit the actual map $\\mathbb{Z_2^6} \\rightarrow \\mathbb{2O}$, as it ends up being implicit in how we construct our dataset later on."
   ]
  },
  {
   "cell_type": "code",
   "execution_count": 4,
   "id": "0960ee7e",
   "metadata": {},
   "outputs": [],
   "source": [
    "m1 = Matrix([[1,0],\n",
    "             [0,1]])\n",
    "\n",
    "mi = Matrix([[0, 1j],\n",
    "             [1j,0]])\n",
    "\n",
    "mj = Matrix([[0,1],\n",
    "             [-1,0]])\n",
    "\n",
    "mk = Matrix([[1j, 0],\n",
    "             [0, -1j]])\n",
    "\n",
    "mu = 1/2 * ((-m1) + mi + mj + mk)\n",
    "\n",
    "mt = 1/sqrt(2) * (m1 + mi)"
   ]
  },
  {
   "cell_type": "markdown",
   "id": "0493ec04",
   "metadata": {},
   "source": [
    "We produce a table of inputs and outputs for our trace_address function. We also specifically omit the last case, as the solver has trouble with 0 occurring twice."
   ]
  },
  {
   "cell_type": "code",
   "execution_count": 5,
   "id": "b5c43227",
   "metadata": {},
   "outputs": [],
   "source": [
    "traces = pd.DataFrame([{\"trace\" : canonical_trace_poly(v1=p1,v2=p2,v3=p3),\n",
    "                        \"v1\" : p1,\n",
    "                        \"v2\" : p2,\n",
    "                        \"v3\" : p3 } for p1, p2, p3 in itertools.product(range(2),range(2),range(2))])\n",
    "#traces = traces[traces.v2 + traces.v3 != 2]"
   ]
  },
  {
   "cell_type": "markdown",
   "id": "e5bf7747",
   "metadata": {},
   "source": [
    "Here we produce the table of elements alongside their various representations, trace, and standard address digits. The map to the reprsentation from the address space is implicit here, as we construct those elements via the same iterator."
   ]
  },
  {
   "cell_type": "code",
   "execution_count": 6,
   "id": "a370ef14",
   "metadata": {},
   "outputs": [],
   "source": [
    "trace_table = pd.DataFrame([{ \"melement\" : (-m1)^p1 * mj^p2 * mk^p3 * mu^(2 * p4 + p5) * mt^p6,\n",
    "                              \"trace\" : 0 if (p4 == 1 and p5 == 1)\n",
    "                                             else ((-m1)^p1 * mj^p2 * mk^p3 * mu^(2 * p4 + p5) * mt^p6).trace(),\n",
    "                              \"w1\" : p1,\n",
    "                              \"w2\" : p2,\n",
    "                              \"w3\" : p3,\n",
    "                              \"w4\" : p4,\n",
    "                              \"w5\" : p5,\n",
    "                              \"w6\" : p6 }\n",
    "                                              for p1, p2, p3, p4, p5, p6\n",
    "                                              in itertools.product(range(2),range(2),range(2),range(2),range(2),range(2))])\n",
    "\n",
    "#trace_table = trace_table[(trace_table.w4 + trace_table.w5) != 2]"
   ]
  },
  {
   "cell_type": "markdown",
   "id": "4c870a37",
   "metadata": {},
   "source": [
    "Now we join the tables across the common trace, so that we can associate the 6 bit standard form to the 3 bit trace form. This gives the data of the map $f$ that we are after."
   ]
  },
  {
   "cell_type": "code",
   "execution_count": 7,
   "id": "8108dabc",
   "metadata": {},
   "outputs": [],
   "source": [
    "trace_table_idens = traces.join(trace_table.set_index(\"trace\"), on = \"trace\")"
   ]
  },
  {
   "cell_type": "markdown",
   "id": "a8dfa938",
   "metadata": {},
   "source": [
    "We generate polynomials mapping the standard bit representation to the correspondong trace representation. Each one one component of $f$."
   ]
  },
  {
   "cell_type": "code",
   "execution_count": 8,
   "id": "52217535",
   "metadata": {},
   "outputs": [],
   "source": [
    "trace_poly_v1_zeros = trace_table_idens[trace_table_idens.v1 == 0].loc[:,[\"w1\",\"w2\",\"w3\",\"w4\",\"w5\",\"w6\"]].values\n",
    "trace_poly_v1_zeros = set(list(map(tuple, trace_poly_v1_zeros)))\n",
    "trace_poly_v1_ones = trace_table_idens[trace_table_idens.v1 == 1].loc[:,[\"w1\",\"w2\",\"w3\",\"w4\",\"w5\",\"w6\"]].values\n",
    "trace_poly_v1_ones = set(list(map(tuple, trace_poly_v1_ones)))\n",
    "\n",
    "trace_poly_v2_zeros = trace_table_idens[trace_table_idens.v2 == 0].loc[:,[\"w1\",\"w2\",\"w3\",\"w4\",\"w5\",\"w6\"]].values\n",
    "trace_poly_v2_zeros = set(list(map(tuple, trace_poly_v2_zeros)))\n",
    "trace_poly_v2_ones = trace_table_idens[trace_table_idens.v2 == 1].loc[:,[\"w1\",\"w2\",\"w3\",\"w4\",\"w5\",\"w6\"]].values\n",
    "trace_poly_v2_ones = set(list(map(tuple, trace_poly_v2_ones)))\n",
    "\n",
    "trace_poly_v3_zeros = trace_table_idens[trace_table_idens.v3 == 0].loc[:,[\"w1\",\"w2\",\"w3\",\"w4\",\"w5\",\"w6\"]].values\n",
    "trace_poly_v3_zeros = set(list(map(tuple, trace_poly_v3_zeros)))\n",
    "trace_poly_v3_ones = trace_table_idens[trace_table_idens.v3 == 1].loc[:,[\"w1\",\"w2\",\"w3\",\"w4\",\"w5\",\"w6\"]].values\n",
    "trace_poly_v3_ones = set(list(map(tuple, trace_poly_v3_ones)))"
   ]
  },
  {
   "cell_type": "code",
   "execution_count": 9,
   "id": "d835222b",
   "metadata": {},
   "outputs": [],
   "source": [
    "#trace_poly_v1 = Z2_6.interpolation_polynomial(trace_poly_v1_zeros, trace_poly_v1_ones)\n",
    "#trace_poly_v2 = Z2_6.interpolation_polynomial(trace_poly_v2_zeros, trace_poly_v2_ones)\n",
    "#trace_poly_v3 = Z2_6.interpolation_polynomial(trace_poly_v3_zeros, trace_poly_v3_ones)"
   ]
  },
  {
   "cell_type": "markdown",
   "id": "439834a2",
   "metadata": {},
   "source": [
    "Finally we put it all togeth in a test. Each component function $v_i$ when fed an address, should give a component of the address according to our chosen trace address. So with all 3, we should be able to pick it out."
   ]
  },
  {
   "cell_type": "code",
   "execution_count": 10,
   "id": "550cf70a",
   "metadata": {},
   "outputs": [
    {
     "ename": "NameError",
     "evalue": "name 'trace_poly_v1' is not defined",
     "output_type": "error",
     "traceback": [
      "\u001b[0;31m---------------------------------------------------------------------------\u001b[0m",
      "\u001b[0;31mNameError\u001b[0m                                 Traceback (most recent call last)",
      "Cell \u001b[0;32mIn[10], line 10\u001b[0m\n\u001b[1;32m      1\u001b[0m results \u001b[38;5;241m=\u001b[39m []\n\u001b[1;32m      2\u001b[0m \u001b[38;5;28;01mfor\u001b[39;00m p1, p2, p3, p4, p5, p6 \u001b[38;5;129;01min\u001b[39;00m \u001b[38;5;28mlist\u001b[39m(itertools\u001b[38;5;241m.\u001b[39mproduct(\u001b[38;5;28mrange\u001b[39m(Integer(\u001b[38;5;241m2\u001b[39m)),\n\u001b[1;32m      3\u001b[0m                                                      \u001b[38;5;28mrange\u001b[39m(Integer(\u001b[38;5;241m2\u001b[39m)),\n\u001b[1;32m      4\u001b[0m                                                      \u001b[38;5;28mrange\u001b[39m(Integer(\u001b[38;5;241m2\u001b[39m)),\n\u001b[0;32m   (...)\u001b[0m\n\u001b[1;32m      7\u001b[0m                                                      \u001b[38;5;28mrange\u001b[39m(Integer(\u001b[38;5;241m2\u001b[39m)))):\n\u001b[1;32m      8\u001b[0m     \u001b[38;5;66;03m#Ignore impossible case (where our polys fail!)\u001b[39;00m\n\u001b[0;32m---> 10\u001b[0m     tmp1 \u001b[38;5;241m=\u001b[39m RR(\u001b[43mtrace_poly_v1\u001b[49m(p1,p2,p3,p4,p5,p6))\n\u001b[1;32m     11\u001b[0m     tmp2 \u001b[38;5;241m=\u001b[39m RR(trace_poly_v2(p1,p2,p3,p4,p5,p6))\n\u001b[1;32m     12\u001b[0m     tmp3 \u001b[38;5;241m=\u001b[39m RR(trace_poly_v3(p1,p2,p3,p4,p5,p6))\n",
      "\u001b[0;31mNameError\u001b[0m: name 'trace_poly_v1' is not defined"
     ]
    }
   ],
   "source": [
    "results = []\n",
    "for p1, p2, p3, p4, p5, p6 in list(itertools.product(range(2),\n",
    "                                                     range(2),\n",
    "                                                     range(2),\n",
    "                                                     range(2),\n",
    "                                                     range(2),\n",
    "                                                     range(2))):\n",
    "    #Ignore impossible case (where our polys fail!)\n",
    "    \n",
    "    tmp1 = RR(trace_poly_v1(p1,p2,p3,p4,p5,p6))\n",
    "    tmp2 = RR(trace_poly_v2(p1,p2,p3,p4,p5,p6))\n",
    "    tmp3 = RR(trace_poly_v3(p1,p2,p3,p4,p5,p6))\n",
    "    \n",
    "    if (p4 and p5):\n",
    "        continue\n",
    "    test = canonical_trace_poly(v1=tmp1,v2=tmp2,v3=tmp3)\n",
    "        \n",
    "    ground_mat = ((-m1)^p1 * mj^p2 * mk^p3 * mu^(2 * p4 + p5) * mt^p6)\n",
    "    ground = ground_mat.trace()\n",
    "    results.append([ground_mat,ground,test])\n",
    "\n",
    "print(all(results))"
   ]
  },
  {
   "cell_type": "code",
   "execution_count": null,
   "id": "7371a049",
   "metadata": {},
   "outputs": [],
   "source": [
    "results[11]"
   ]
  },
  {
   "cell_type": "code",
   "execution_count": 11,
   "id": "2f535a2a",
   "metadata": {
    "tags": []
   },
   "outputs": [
    {
     "data": {
      "text/html": [
       "<div>\n",
       "<style scoped>\n",
       "    .dataframe tbody tr th:only-of-type {\n",
       "        vertical-align: middle;\n",
       "    }\n",
       "\n",
       "    .dataframe tbody tr th {\n",
       "        vertical-align: top;\n",
       "    }\n",
       "\n",
       "    .dataframe thead th {\n",
       "        text-align: right;\n",
       "    }\n",
       "</style>\n",
       "<table border=\"1\" class=\"dataframe\">\n",
       "  <thead>\n",
       "    <tr style=\"text-align: right;\">\n",
       "      <th></th>\n",
       "      <th>trace</th>\n",
       "      <th>v1</th>\n",
       "      <th>v2</th>\n",
       "      <th>v3</th>\n",
       "      <th>melement</th>\n",
       "      <th>w1</th>\n",
       "      <th>w2</th>\n",
       "      <th>w3</th>\n",
       "      <th>w4</th>\n",
       "      <th>w5</th>\n",
       "      <th>w6</th>\n",
       "    </tr>\n",
       "  </thead>\n",
       "  <tbody>\n",
       "    <tr>\n",
       "      <th>0</th>\n",
       "      <td>-2.00000000000000</td>\n",
       "      <td>0</td>\n",
       "      <td>0</td>\n",
       "      <td>0</td>\n",
       "      <td>[-1.00000000000000                 0]\\n[      ...</td>\n",
       "      <td>1</td>\n",
       "      <td>0</td>\n",
       "      <td>0</td>\n",
       "      <td>0</td>\n",
       "      <td>0</td>\n",
       "      <td>0</td>\n",
       "    </tr>\n",
       "    <tr>\n",
       "      <th>1</th>\n",
       "      <td>2.00000000000000</td>\n",
       "      <td>0</td>\n",
       "      <td>0</td>\n",
       "      <td>1</td>\n",
       "      <td>[1.00000000000000                0]\\n[        ...</td>\n",
       "      <td>0</td>\n",
       "      <td>0</td>\n",
       "      <td>0</td>\n",
       "      <td>0</td>\n",
       "      <td>0</td>\n",
       "      <td>0</td>\n",
       "    </tr>\n",
       "    <tr>\n",
       "      <th>2</th>\n",
       "      <td>-1.00000000000000*sqrt(2)</td>\n",
       "      <td>0</td>\n",
       "      <td>1</td>\n",
       "      <td>0</td>\n",
       "      <td>[-(0.500000000000000 - 0.500000000000000*I)*sq...</td>\n",
       "      <td>0</td>\n",
       "      <td>0</td>\n",
       "      <td>0</td>\n",
       "      <td>0</td>\n",
       "      <td>1</td>\n",
       "      <td>1</td>\n",
       "    </tr>\n",
       "    <tr>\n",
       "      <th>2</th>\n",
       "      <td>-1.00000000000000*sqrt(2)</td>\n",
       "      <td>0</td>\n",
       "      <td>1</td>\n",
       "      <td>0</td>\n",
       "      <td>[-(0.500000000000000 + 0.500000000000000*I)*sq...</td>\n",
       "      <td>0</td>\n",
       "      <td>0</td>\n",
       "      <td>1</td>\n",
       "      <td>0</td>\n",
       "      <td>1</td>\n",
       "      <td>1</td>\n",
       "    </tr>\n",
       "    <tr>\n",
       "      <th>2</th>\n",
       "      <td>-1.00000000000000*sqrt(2)</td>\n",
       "      <td>0</td>\n",
       "      <td>1</td>\n",
       "      <td>0</td>\n",
       "      <td>[-0.500000000000000*sqrt(2)  0.500000000000000...</td>\n",
       "      <td>0</td>\n",
       "      <td>1</td>\n",
       "      <td>1</td>\n",
       "      <td>1</td>\n",
       "      <td>0</td>\n",
       "      <td>1</td>\n",
       "    </tr>\n",
       "    <tr>\n",
       "      <th>...</th>\n",
       "      <td>...</td>\n",
       "      <td>...</td>\n",
       "      <td>...</td>\n",
       "      <td>...</td>\n",
       "      <td>...</td>\n",
       "      <td>...</td>\n",
       "      <td>...</td>\n",
       "      <td>...</td>\n",
       "      <td>...</td>\n",
       "      <td>...</td>\n",
       "      <td>...</td>\n",
       "    </tr>\n",
       "    <tr>\n",
       "      <th>7</th>\n",
       "      <td>0.000000000000000</td>\n",
       "      <td>1</td>\n",
       "      <td>1</td>\n",
       "      <td>1</td>\n",
       "      <td>[-0.500000000000000*I*sqrt(2)   -0.50000000000...</td>\n",
       "      <td>1</td>\n",
       "      <td>1</td>\n",
       "      <td>0</td>\n",
       "      <td>1</td>\n",
       "      <td>1</td>\n",
       "      <td>1</td>\n",
       "    </tr>\n",
       "    <tr>\n",
       "      <th>7</th>\n",
       "      <td>0.000000000000000</td>\n",
       "      <td>1</td>\n",
       "      <td>1</td>\n",
       "      <td>1</td>\n",
       "      <td>[                 0 1.00000000000000*I]\\n[1.00...</td>\n",
       "      <td>1</td>\n",
       "      <td>1</td>\n",
       "      <td>1</td>\n",
       "      <td>0</td>\n",
       "      <td>0</td>\n",
       "      <td>0</td>\n",
       "    </tr>\n",
       "    <tr>\n",
       "      <th>7</th>\n",
       "      <td>0.000000000000000</td>\n",
       "      <td>1</td>\n",
       "      <td>1</td>\n",
       "      <td>1</td>\n",
       "      <td>[                                             ...</td>\n",
       "      <td>1</td>\n",
       "      <td>1</td>\n",
       "      <td>1</td>\n",
       "      <td>0</td>\n",
       "      <td>1</td>\n",
       "      <td>1</td>\n",
       "    </tr>\n",
       "    <tr>\n",
       "      <th>7</th>\n",
       "      <td>0.000000000000000</td>\n",
       "      <td>1</td>\n",
       "      <td>1</td>\n",
       "      <td>1</td>\n",
       "      <td>[                 0 1.00000000000000*I]\\n[1.00...</td>\n",
       "      <td>1</td>\n",
       "      <td>1</td>\n",
       "      <td>1</td>\n",
       "      <td>1</td>\n",
       "      <td>1</td>\n",
       "      <td>0</td>\n",
       "    </tr>\n",
       "    <tr>\n",
       "      <th>7</th>\n",
       "      <td>0.000000000000000</td>\n",
       "      <td>1</td>\n",
       "      <td>1</td>\n",
       "      <td>1</td>\n",
       "      <td>[ -0.500000000000000*sqrt(2) 0.500000000000000...</td>\n",
       "      <td>1</td>\n",
       "      <td>1</td>\n",
       "      <td>1</td>\n",
       "      <td>1</td>\n",
       "      <td>1</td>\n",
       "      <td>1</td>\n",
       "    </tr>\n",
       "  </tbody>\n",
       "</table>\n",
       "<p>98 rows × 11 columns</p>\n",
       "</div>"
      ],
      "text/plain": [
       "                        trace  v1  v2  v3  \\\n",
       "0           -2.00000000000000   0   0   0   \n",
       "1            2.00000000000000   0   0   1   \n",
       "2   -1.00000000000000*sqrt(2)   0   1   0   \n",
       "2   -1.00000000000000*sqrt(2)   0   1   0   \n",
       "2   -1.00000000000000*sqrt(2)   0   1   0   \n",
       "..                        ...  ..  ..  ..   \n",
       "7           0.000000000000000   1   1   1   \n",
       "7           0.000000000000000   1   1   1   \n",
       "7           0.000000000000000   1   1   1   \n",
       "7           0.000000000000000   1   1   1   \n",
       "7           0.000000000000000   1   1   1   \n",
       "\n",
       "                                             melement  w1  w2  w3  w4  w5  w6  \n",
       "0   [-1.00000000000000                 0]\\n[      ...   1   0   0   0   0   0  \n",
       "1   [1.00000000000000                0]\\n[        ...   0   0   0   0   0   0  \n",
       "2   [-(0.500000000000000 - 0.500000000000000*I)*sq...   0   0   0   0   1   1  \n",
       "2   [-(0.500000000000000 + 0.500000000000000*I)*sq...   0   0   1   0   1   1  \n",
       "2   [-0.500000000000000*sqrt(2)  0.500000000000000...   0   1   1   1   0   1  \n",
       "..                                                ...  ..  ..  ..  ..  ..  ..  \n",
       "7   [-0.500000000000000*I*sqrt(2)   -0.50000000000...   1   1   0   1   1   1  \n",
       "7   [                 0 1.00000000000000*I]\\n[1.00...   1   1   1   0   0   0  \n",
       "7   [                                             ...   1   1   1   0   1   1  \n",
       "7   [                 0 1.00000000000000*I]\\n[1.00...   1   1   1   1   1   0  \n",
       "7   [ -0.500000000000000*sqrt(2) 0.500000000000000...   1   1   1   1   1   1  \n",
       "\n",
       "[98 rows x 11 columns]"
      ]
     },
     "execution_count": 11,
     "metadata": {},
     "output_type": "execute_result"
    }
   ],
   "source": [
    "trace_table_idens"
   ]
  },
  {
   "cell_type": "code",
   "execution_count": 13,
   "id": "3ac411ce-8f30-46fd-9993-c46ffb47f1d2",
   "metadata": {
    "tags": []
   },
   "outputs": [
    {
     "data": {
      "text/plain": [
       "-1.00000000000000*sqrt(2)"
      ]
     },
     "execution_count": 13,
     "metadata": {},
     "output_type": "execute_result"
    }
   ],
   "source": [
    "canonical_trace_poly(v1=0,v2=1,v3=0)"
   ]
  },
  {
   "cell_type": "code",
   "execution_count": null,
   "id": "b95b4430-be59-4bc4-8e42-508da32d8744",
   "metadata": {
    "tags": []
   },
   "outputs": [],
   "source": [
    "sum(trace_table.trace.values)"
   ]
  },
  {
   "cell_type": "code",
   "execution_count": 24,
   "id": "285b5784-3f2c-46bf-9473-b6f3a4c11af5",
   "metadata": {},
   "outputs": [],
   "source": [
    "a=0.3017767\n",
    "b=0.0517767\n",
    "d=0.125\n",
    "e=0.1767767\n",
    "f=0.4267767\n",
    "g=0.0732233"
   ]
  },
  {
   "cell_type": "code",
   "execution_count": 99,
   "id": "f1464a58-0c34-498f-9003-2e92bc8d7322",
   "metadata": {
    "tags": []
   },
   "outputs": [
    {
     "data": {
      "text/plain": [
       "0.471404520791032"
      ]
     },
     "execution_count": 99,
     "metadata": {},
     "output_type": "execute_result"
    }
   ],
   "source": [
    "1*sqrt(2).n()/3"
   ]
  },
  {
   "cell_type": "code",
   "execution_count": 59,
   "id": "b917a53b-58e1-4f6f-9751-50416176af97",
   "metadata": {
    "tags": []
   },
   "outputs": [
    {
     "data": {
      "text/plain": [
       "0.353553400000000"
      ]
     },
     "execution_count": 59,
     "metadata": {},
     "output_type": "execute_result"
    }
   ],
   "source": [
    "f-g"
   ]
  },
  {
   "cell_type": "code",
   "execution_count": 82,
   "id": "f2afa325-d09b-424d-b404-643cc6e00ba1",
   "metadata": {
    "tags": []
   },
   "outputs": [
    {
     "data": {
      "text/plain": [
       "0.213388347648318"
      ]
     },
     "execution_count": 82,
     "metadata": {},
     "output_type": "execute_result"
    }
   ],
   "source": [
    " sqrt(2).n()/16 + 1/8"
   ]
  },
  {
   "cell_type": "code",
   "execution_count": 89,
   "id": "452ea73c-7a59-4925-b874-2dca73a661c4",
   "metadata": {
    "tags": []
   },
   "outputs": [
    {
     "data": {
      "text/plain": [
       "0.530330100000000"
      ]
     },
     "execution_count": 89,
     "metadata": {},
     "output_type": "execute_result"
    }
   ],
   "source": [
    "a+b+e"
   ]
  },
  {
   "cell_type": "code",
   "execution_count": 132,
   "id": "7546830a-841a-48ef-b0b3-7b11971b601d",
   "metadata": {
    "tags": []
   },
   "outputs": [
    {
     "data": {
      "text/plain": [
       "-4.70336310870456e-9"
      ]
     },
     "execution_count": 132,
     "metadata": {},
     "output_type": "execute_result"
    }
   ],
   "source": [
    "1/8*(1*sqrt(2).n() -1 ) -b"
   ]
  },
  {
   "cell_type": "code",
   "execution_count": null,
   "id": "046425f0-6983-4059-a155-e5f383731c84",
   "metadata": {},
   "outputs": [],
   "source": []
  }
 ],
 "metadata": {
  "kernelspec": {
   "display_name": "SageMath 9.8",
   "language": "sage",
   "name": "sagemath"
  },
  "language_info": {
   "codemirror_mode": {
    "name": "ipython",
    "version": 3
   },
   "file_extension": ".py",
   "mimetype": "text/x-python",
   "name": "python",
   "nbconvert_exporter": "python",
   "pygments_lexer": "ipython3",
   "version": "3.10.10"
  }
 },
 "nbformat": 4,
 "nbformat_minor": 5
}
