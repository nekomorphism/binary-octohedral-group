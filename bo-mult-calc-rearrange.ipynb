{
 "cells": [
  {
   "cell_type": "code",
   "execution_count": 1,
   "metadata": {
    "collapsed": false,
    "jupyter": {
     "outputs_hidden": false
    },
    "tags": []
   },
   "outputs": [],
   "source": [
    "from sage.rings.polynomial.pbori.pbori import BooleSet\n",
    "import json\n",
    "import itertools\n",
    "import pandas as pd\n",
    "import numpy as np\n",
    "import functools"
   ]
  },
  {
   "cell_type": "markdown",
   "metadata": {},
   "source": [
    "Here we create a boolean ring in 12 variables named $B$ in the variables $x_i, y_i$ for $i=1,\\dots,6$. We use 6 binary digits to specify an element of $BO$, so we are able to specify two elements simultaenously in this ring. This is required for solving the multiplication table."
   ]
  },
  {
   "cell_type": "code",
   "execution_count": 2,
   "metadata": {
    "collapsed": false,
    "jupyter": {
     "outputs_hidden": false
    },
    "tags": []
   },
   "outputs": [],
   "source": [
    "B.<x1,x2,x3,x4,x5,x6,y1,y2,y3,y4,y5,y6> = BooleanPolynomialRing(12)"
   ]
  },
  {
   "cell_type": "markdown",
   "metadata": {},
   "source": [
    "We create a ring named $Q_{\\text{params}}$ in 6 variables, over a symbolic ring. These will surve as the parameters to specify a quanternion representation of $BO$.\n",
    "Using the parameter ring, we create $Q$, a quaternion algebra. The technical details are unimportant; essentially we obtain quaternion functions in $z_i$."
   ]
  },
  {
   "cell_type": "code",
   "execution_count": 3,
   "metadata": {
    "collapsed": false,
    "jupyter": {
     "outputs_hidden": false
    },
    "tags": []
   },
   "outputs": [],
   "source": [
    "Q_params.<z1,z2,z3,z4,z5,z6> = PolynomialRing(SR, 6)\n",
    "Q.<i,j,k> = QuaternionAlgebra(Q_params, -1, -1)\n",
    "\n",
    "u = -1/2 * (1 + i + j + k)\n",
    "t = (1 + i) / sqrt(2)"
   ]
  },
  {
   "cell_type": "markdown",
   "metadata": {},
   "source": [
    "The basic idea of our trick is that, we create the polynomials implementing our gate via a table join. Given a sequence of generators, we produce a table pairing each generated element with the corresponding sequence of powers of generators that are needed to produce that element. This gives us a \"name\" for each element in the group. Then we can produce each element of the group by brute force, and match the input sequence of 12 powers, to our \"name\" sequence of 6. \n",
    "\n",
    "So, first we produce the tables we need to match over. This is arbitrary, and we need only be consistent. We create a variable to hold a dataframe. The rows of the dataframe consist of the element, written in quaternion form, corresponding to the product $$(-1)^{p_1} j^{p_2} k^{p_3} u^{2p_4 + p_5} t^{p_6}$$ followed by the parameters $p_i$ which were used.\n"
   ]
  },
  {
   "cell_type": "code",
   "execution_count": 4,
   "metadata": {
    "collapsed": false,
    "jupyter": {
     "outputs_hidden": false
    },
    "tags": []
   },
   "outputs": [],
   "source": [
    "canonical_forms = pd.DataFrame(data = [{ \"element\" : str((-1)**p1 * j**p2 * k**p3 * u**(2*p4 + p5) * t**p6),\n",
    "                                         \"z1\" : p1,\n",
    "                                         \"z2\" : p2,\n",
    "                                         \"z3\" : p3,\n",
    "                                         \"z4\" : p4,\n",
    "                                         \"z5\" : p5,\n",
    "                                         \"z6\" : p6 }\n",
    "                                       for p1, p2, p3, p4, p5, p6\n",
    "                                       in itertools.product(range(2),range(2),range(2),range(2),range(2),range(2))])\n",
    "\n",
    "canonical_forms = canonical_forms[(canonical_forms.z4 + canonical_forms.z5) != 2]\n",
    "\n"
   ]
  },
  {
   "cell_type": "markdown",
   "metadata": {},
   "source": [
    "!!Slow Cell!!\n",
    "\n",
    "The multiplication table is constructed similarly. The only change is that we have a product of two elements, followed by the parameters that produced it."
   ]
  },
  {
   "cell_type": "code",
   "execution_count": 5,
   "metadata": {
    "collapsed": false,
    "jupyter": {
     "outputs_hidden": false
    },
    "tags": []
   },
   "outputs": [],
   "source": [
    "mult_table = pd.DataFrame([{ \"element\" : str( ((-1)**p1 * j**p2 * k**p3 * u**(2*p4 + p5) * t**p6) * ((-1)**q1 * j**q2 * k**q3 * u**(2*q4 + q5) * t**q6) ),\n",
    "                             \"x1\" : p1,\n",
    "                             \"x2\" : p2,\n",
    "                             \"x3\" : p3,\n",
    "                             \"x4\" : p4,\n",
    "                             \"x5\" : p5,\n",
    "                             \"x6\" : p6,\n",
    "                             \"y1\" : q1,\n",
    "                             \"y2\" : q2,\n",
    "                             \"y3\" : q3,\n",
    "                             \"y4\" : q4,\n",
    "                             \"y5\" : q5,\n",
    "                             \"y6\" : q6 }\n",
    "                           for p1, p2, p3, p4, p5, p6, q1, q2, q3, q4, q5, q6\n",
    "                           in itertools.product(range(2),range(2),range(2),range(2),range(2),range(2),range(2),range(2),range(2),range(2),range(2),range(2))])\n",
    "\n",
    "mult_table = mult_table[(mult_table.x4 + mult_table.x5) != 2]\n",
    "mult_table = mult_table[(mult_table.y4 + mult_table.y5) != 2]"
   ]
  },
  {
   "cell_type": "markdown",
   "metadata": {},
   "source": [
    "!!Slow Cell!!\n",
    "\n",
    "This is the key step the tables are used in. We simply join them (as in SQL) over the common element; resulting in a relation between the standard representation of an element, and the representation given by the product table. "
   ]
  },
  {
   "cell_type": "code",
   "execution_count": 6,
   "metadata": {
    "collapsed": false,
    "jupyter": {
     "outputs_hidden": false
    },
    "tags": []
   },
   "outputs": [],
   "source": [
    "mult_table_idens = mult_table.join(canonical_forms.set_index(\"element\"), on = \"element\")"
   ]
  },
  {
   "cell_type": "markdown",
   "metadata": {},
   "source": [
    "Our goal is now then to acquire an arithmetic expresion for the relation obtained by the join. Used the PoliBoRi package in Sagemath, we can specify the ones and zeros of the relation, and it can efficiently compute a set of polynomials satisfying it. For instance if we know $(1,1,1,1,1,1,1,1,1,1,1,1)$ and $(1, 0, 0, 1, 0, 0)$ both produce $u^2t^1$, then we need 6 polyomials. The first must give 1 on an input of 12 1s. The second must give 0 on the third input. And so on. Note that this set of polynomials must hold for each and every element of the relation.\n",
    "\n",
    "Here we prepare the data in the format PoliBoRi can process it. From our joined tables we extract all those elements which are either 0 or 1 for a given position in our name sequence."
   ]
  },
  {
   "cell_type": "code",
   "execution_count": 7,
   "metadata": {
    "collapsed": false,
    "jupyter": {
     "outputs_hidden": false
    },
    "tags": []
   },
   "outputs": [],
   "source": [
    "z1_zeros = mult_table_idens[mult_table_idens.z1 == 0].loc[:,[\"x1\",\"x2\",\"x3\",\"x4\",\"x5\",\"x6\",\"y1\",\"y2\",\"y3\",\"y4\",\"y5\",\"y6\"]].values\n",
    "z1_zeros = set(list(map(tuple, z1_zeros)))\n",
    "z1_ones = mult_table_idens[mult_table_idens.z1 == 1].loc[:,[\"x1\",\"x2\",\"x3\",\"x4\",\"x5\",\"x6\",\"y1\",\"y2\",\"y3\",\"y4\",\"y5\",\"y6\"]].values\n",
    "z1_ones = set(list(map(tuple, z1_ones)))\n",
    "\n",
    "z2_zeros = mult_table_idens[mult_table_idens.z2 == 0].loc[:,[\"x1\",\"x2\",\"x3\",\"x4\",\"x5\",\"x6\",\"y1\",\"y2\",\"y3\",\"y4\",\"y5\",\"y6\"]].values\n",
    "z2_zeros = set(list(map(tuple, z2_zeros)))\n",
    "z2_ones = mult_table_idens[mult_table_idens.z2 == 1].loc[:,[\"x1\",\"x2\",\"x3\",\"x4\",\"x5\",\"x6\",\"y1\",\"y2\",\"y3\",\"y4\",\"y5\",\"y6\"]].values\n",
    "z2_ones = set(list(map(tuple, z2_ones)))\n",
    "\n",
    "z3_zeros = mult_table_idens[mult_table_idens.z3 == 0].loc[:,[\"x1\",\"x2\",\"x3\",\"x4\",\"x5\",\"x6\",\"y1\",\"y2\",\"y3\",\"y4\",\"y5\",\"y6\"]].values\n",
    "z3_zeros = set(list(map(tuple, z3_zeros)))\n",
    "z3_ones = mult_table_idens[mult_table_idens.z3 == 1].loc[:,[\"x1\",\"x2\",\"x3\",\"x4\",\"x5\",\"x6\",\"y1\",\"y2\",\"y3\",\"y4\",\"y5\",\"y6\"]].values\n",
    "z3_ones = set(list(map(tuple, z3_ones)))\n",
    "\n",
    "z4_zeros = mult_table_idens[mult_table_idens.z4 == 0].loc[:,[\"x1\",\"x2\",\"x3\",\"x4\",\"x5\",\"x6\",\"y1\",\"y2\",\"y3\",\"y4\",\"y5\",\"y6\"]].values\n",
    "z4_zeros = set(list(map(tuple, z4_zeros)))\n",
    "z4_ones = mult_table_idens[mult_table_idens.z4 == 1].loc[:,[\"x1\",\"x2\",\"x3\",\"x4\",\"x5\",\"x6\",\"y1\",\"y2\",\"y3\",\"y4\",\"y5\",\"y6\"]].values\n",
    "z4_ones = set(list(map(tuple, z4_ones)))\n",
    "\n",
    "z5_zeros = mult_table_idens[mult_table_idens.z5 == 0].loc[:,[\"x1\",\"x2\",\"x3\",\"x4\",\"x5\",\"x6\",\"y1\",\"y2\",\"y3\",\"y4\",\"y5\",\"y6\"]].values\n",
    "z5_zeros = set(list(map(tuple, z5_zeros)))\n",
    "z5_ones = mult_table_idens[mult_table_idens.z5 == 1].loc[:,[\"x1\",\"x2\",\"x3\",\"x4\",\"x5\",\"x6\",\"y1\",\"y2\",\"y3\",\"y4\",\"y5\",\"y6\"]].values\n",
    "z5_ones = set(list(map(tuple, z5_ones)))\n",
    "\n",
    "z6_zeros = mult_table_idens[mult_table_idens.z6 == 0].loc[:,[\"x1\",\"x2\",\"x3\",\"x4\",\"x5\",\"x6\",\"y1\",\"y2\",\"y3\",\"y4\",\"y5\",\"y6\"]].values\n",
    "z6_zeros = set(list(map(tuple, z6_zeros)))\n",
    "z6_ones = mult_table_idens[mult_table_idens.z6 == 1].loc[:,[\"x1\",\"x2\",\"x3\",\"x4\",\"x5\",\"x6\",\"y1\",\"y2\",\"y3\",\"y4\",\"y5\",\"y6\"]].values\n",
    "z6_ones = set(list(map(tuple, z6_ones)))"
   ]
  },
  {
   "cell_type": "markdown",
   "metadata": {},
   "source": [
    "PolyBoRi does some magic, and voila: we have the 6 polynomials required."
   ]
  },
  {
   "cell_type": "code",
   "execution_count": 8,
   "metadata": {
    "collapsed": false,
    "jupyter": {
     "outputs_hidden": false
    },
    "tags": []
   },
   "outputs": [],
   "source": [
    "z1_poly = B.interpolation_polynomial(z1_zeros,z1_ones)\n",
    "z2_poly = B.interpolation_polynomial(z2_zeros,z2_ones)\n",
    "z3_poly = B.interpolation_polynomial(z3_zeros,z3_ones)\n",
    "z4_poly = B.interpolation_polynomial(z4_zeros,z4_ones)\n",
    "z5_poly = B.interpolation_polynomial(z5_zeros,z5_ones)\n",
    "z6_poly = B.interpolation_polynomial(z6_zeros,z6_ones)"
   ]
  },
  {
   "cell_type": "markdown",
   "metadata": {},
   "source": [
    "!!Slow Cell!!\n",
    "\n",
    "\n",
    "Not so fast! Lets make sure theyre actually right.\n",
    "\n",
    "First we do some uninportant messageing to that Sagemath likes the types, and define a couple of helper functions. We need one just to map out bit-tuple represerntion to the quaternion represention, and another which just multiplies elements.\n",
    "Next we iterate through all elements (skipping those cases which are extraneous) and compute the correct result by literally multiplying the elements, and also by looking up the anwers with out polynomials. We collect the results of this comparison into a list and then test everything. If all is well, then you should see \"True\" print."
   ]
  },
  {
   "cell_type": "code",
   "execution_count": 9,
   "metadata": {
    "collapsed": false,
    "jupyter": {
     "outputs_hidden": false
    },
    "tags": []
   },
   "outputs": [
    {
     "name": "stdout",
     "output_type": "stream",
     "text": [
      "True\n"
     ]
    }
   ],
   "source": [
    "BZ =  GF(2)[\"x1\",\"x2\",\"x3\",\"x4\",\"x5\",\"x6\",\"y1\",\"y2\",\"y3\",\"y4\",\"y5\",\"y6\"]\n",
    "z1_poly = BZ(B.interpolation_polynomial(z1_zeros,z1_ones))\n",
    "z2_poly = BZ(B.interpolation_polynomial(z2_zeros,z2_ones))\n",
    "z3_poly = BZ(B.interpolation_polynomial(z3_zeros,z3_ones))\n",
    "z4_poly = BZ(B.interpolation_polynomial(z4_zeros,z4_ones))\n",
    "z5_poly = BZ(B.interpolation_polynomial(z5_zeros,z5_ones))\n",
    "z6_poly = BZ(B.interpolation_polynomial(z6_zeros,z6_ones))\n",
    "\n",
    "def powers_to_el(p1,p2,p3,p4,p5,p6):\n",
    "    return ((-1)**p1 * j**p2 * k**p3 * u**(2*p4 + p5) * t**p6)\n",
    "\n",
    "def multiply_els(p1,p2,p3,p4,p5,p6,q1,q2,q3,q4,q5,q6):\n",
    "    left_operand = (-1)**p1 * j**p2 * k**p3 * u**(2*p4 + p5) * t**p6\n",
    "    right_operand = (-1)**q1 * j**q2 * k**q3 * u**(2*q4 + q5) * t**q6\n",
    "    return left_operand * right_operand\n",
    "\n",
    "\n",
    "results = []\n",
    "for p1, p2, p3, p4, p5, p6, q1, q2, q3, q4, q5, q6 in list(itertools.product(range(2), \\\n",
    "                                                                             range(2), \\\n",
    "                                                                             range(2), \\\n",
    "                                                                             range(2), \\\n",
    "                                                                             range(2), \\\n",
    "                                                                             range(2), \\\n",
    "                                                                             range(2), \\\n",
    "                                                                             range(2), \\\n",
    "                                                                             range(2), \\\n",
    "                                                                             range(2), \\\n",
    "                                                                             range(2), \\\n",
    "                                                                             range(2))):\n",
    "\n",
    "\n",
    "\n",
    "    #Ignore impossible case (where our polys fail!)\n",
    "    if (p4 and p5) or (q4 and q5):\n",
    "        continue\n",
    "\n",
    "    z1_pow = int(z1_poly(p1,p2,p3,p4,p5,p6,q1,q2,q3,q4,q5,q6))\n",
    "    z2_pow = int(z2_poly(p1,p2,p3,p4,p5,p6,q1,q2,q3,q4,q5,q6))\n",
    "    z3_pow = int(z3_poly(p1,p2,p3,p4,p5,p6,q1,q2,q3,q4,q5,q6))\n",
    "    z4_pow = int(z4_poly(p1,p2,p3,p4,p5,p6,q1,q2,q3,q4,q5,q6))\n",
    "    z5_pow = int(z5_poly(p1,p2,p3,p4,p5,p6,q1,q2,q3,q4,q5,q6))\n",
    "    z6_pow = int(z6_poly(p1,p2,p3,p4,p5,p6,q1,q2,q3,q4,q5,q6))\n",
    "\n",
    "    product = multiply_els(p1,p2,p3,p4,p5,p6,q1,q2,q3,q4,q5,q6)\n",
    "    potential_result = powers_to_el(z1_pow,z2_pow,z3_pow,z4_pow,z5_pow,z6_pow)\n",
    "\n",
    "    results.append(product == potential_result)\n",
    "\n",
    "print(all(results))"
   ]
  },
  {
   "cell_type": "markdown",
   "metadata": {},
   "source": [
    "Next, we extract the action of each individual generator on a general element. I.e. For a given element specified by $(y_1,\\dots,y_6)$ we wish to produce some new 6-sequence given by polynomials in $y_i$.\n",
    "\n"
   ]
  },
  {
   "cell_type": "code",
   "execution_count": 10,
   "metadata": {
    "collapsed": false,
    "jupyter": {
     "outputs_hidden": false
    },
    "tags": []
   },
   "outputs": [],
   "source": [
    "# I dont remember what these left and right actions were for\n",
    "# So I guess I better leave them for now\n",
    "\n",
    "def left_action(x1,x2,x3,x4,x5,x6):\n",
    "    return(z1_poly(x1=x1,x2=x2,x3=x3,x4=x4,x5=x5,x6=x6),\n",
    "           z2_poly(x1=x1,x2=x2,x3=x3,x4=x4,x5=x5,x6=x6),\n",
    "           z3_poly(x1=x1,x2=x2,x3=x3,x4=x4,x5=x5,x6=x6),\n",
    "           z4_poly(x1=x1,x2=x2,x3=x3,x4=x4,x5=x5,x6=x6),\n",
    "           z5_poly(x1=x1,x2=x2,x3=x3,x4=x4,x5=x5,x6=x6),\n",
    "           z6_poly(x1=x1,x2=x2,x3=x3,x4=x4,x5=x5,x6=x6))\n",
    "\n",
    "\n",
    "def right_action(y1,y2,y3,y4,y5,y6):\n",
    "    return(z1_poly(y1=y1,y2=y2,y3=y3,y4=y4,y5=y5,y6=y6),\n",
    "           z2_poly(y1=y1,y2=y2,y3=y3,y4=y4,y5=y5,y6=y6),\n",
    "           z3_poly(y1=y1,y2=y2,y3=y3,y4=y4,y5=y5,y6=y6),\n",
    "           z4_poly(y1=y1,y2=y2,y3=y3,y4=y4,y5=y5,y6=y6),\n",
    "           z5_poly(y1=y1,y2=y2,y3=y3,y4=y4,y5=y5,y6=y6),\n",
    "           z6_poly(y1=y1,y2=y2,y3=y3,y4=y4,y5=y5,y6=y6))\n",
    "\n",
    "\n",
    "def t_action(y1,y2,y3,y4,y5,y6):\n",
    "    return (y2*y4*y6 + y3*y4*y6 + y2*y5*y6 + y2*y3 + y2*y4 + y3*y5 + y3*y6 + y4*y6 + y1 + y3 + y5,\n",
    "            y4*y6 + y3 + y5 + y6,\n",
    "            y5*y6 + y2 + y4 + y5 + y6,\n",
    "            y5,\n",
    "            y4,\n",
    "            y6 + 1)\n",
    "\n",
    "def u1_action(y1,y2,y3,y4,y5,y6):\n",
    "    return (y1, y2 + y3, y2, y5, y4 + y5 + 1, y6)\n",
    "\n",
    "def u2_action(y1,y2,y3,y4,y5,y6):\n",
    "    return (y1, y3, y2 + y3, y4 + y5 + 1, y4, y6)\n",
    "\n",
    "def k_action(y1,y2,y3,y4,y5,y6):\n",
    "    return (y1 + y2 + y3, y2, y3 + 1, y4, y5, y6)\n",
    "\n",
    "def j_action(y1,y2,y3,y4,y5,y6):\n",
    "    return (y1 + y2, y2 + 1, y3, y4, y5, y6)\n",
    "\n",
    "def neg_action(y1,y2,y3,y4,y5,y6):\n",
    "    return (y1 + 1,y2,y3,y4,y5,y6)\n",
    "\n",
    "def compose(f, g):\n",
    "    return lambda *a: f(*g(*a))"
   ]
  },
  {
   "cell_type": "markdown",
   "metadata": {},
   "source": [
    "Now we can find each of the actions we need to implement each individual gate. These are what we need to actually implement the circuits."
   ]
  },
  {
   "cell_type": "code",
   "execution_count": 11,
   "metadata": {
    "collapsed": false,
    "jupyter": {
     "outputs_hidden": false
    },
    "tags": []
   },
   "outputs": [
    {
     "data": {
      "text/plain": [
       "(y1 + y2*y3 + y2*y4*y6 + y2*y4 + y2*y5*y6 + y3*y4*y6 + y3*y5 + y3*y6 + y3 + y4*y6 + y5,\n",
       " y3 + y4*y6 + y5 + y6,\n",
       " y2 + y4 + y5*y6 + y5 + y6,\n",
       " y5,\n",
       " y4,\n",
       " y6 + 1)"
      ]
     },
     "execution_count": 11,
     "metadata": {},
     "output_type": "execute_result"
    }
   ],
   "source": [
    "t_action(y1,y2,y3,y4,y5,y6)"
   ]
  },
  {
   "cell_type": "code",
   "execution_count": 12,
   "metadata": {
    "tags": []
   },
   "outputs": [
    {
     "data": {
      "text/plain": [
       "(y1, y2 + y3, y2, y5, y4 + y5 + 1, y6)"
      ]
     },
     "execution_count": 12,
     "metadata": {},
     "output_type": "execute_result"
    }
   ],
   "source": [
    "u1_action(y1,y2,y3,y4,y5,y6)"
   ]
  },
  {
   "cell_type": "code",
   "execution_count": 13,
   "metadata": {
    "tags": []
   },
   "outputs": [
    {
     "data": {
      "text/plain": [
       "(y1, y3, y2 + y3, y4 + y5 + 1, y4, y6)"
      ]
     },
     "execution_count": 13,
     "metadata": {},
     "output_type": "execute_result"
    }
   ],
   "source": [
    "u2_action(y1,y2,y3,y4,y5,y6)"
   ]
  },
  {
   "cell_type": "code",
   "execution_count": 14,
   "metadata": {
    "tags": []
   },
   "outputs": [
    {
     "data": {
      "text/plain": [
       "(y1 + y2 + y3, y2, y3 + 1, y4, y5, y6)"
      ]
     },
     "execution_count": 14,
     "metadata": {},
     "output_type": "execute_result"
    }
   ],
   "source": [
    "k_action(y1,y2,y3,y4,y5,y6)"
   ]
  },
  {
   "cell_type": "code",
   "execution_count": 15,
   "metadata": {
    "tags": []
   },
   "outputs": [
    {
     "data": {
      "text/plain": [
       "(y1 + y2, y2 + 1, y3, y4, y5, y6)"
      ]
     },
     "execution_count": 15,
     "metadata": {},
     "output_type": "execute_result"
    }
   ],
   "source": [
    "j_action(y1,y2,y3,y4,y5,y6)"
   ]
  },
  {
   "cell_type": "code",
   "execution_count": 16,
   "metadata": {
    "tags": []
   },
   "outputs": [
    {
     "data": {
      "text/plain": [
       "(y1 + 1, y2, y3, y4, y5, y6)"
      ]
     },
     "execution_count": 16,
     "metadata": {},
     "output_type": "execute_result"
    }
   ],
   "source": [
    "neg_action(y1,y2,y3,y4,y5,y6)"
   ]
  },
  {
   "cell_type": "markdown",
   "metadata": {},
   "source": [
    "Dont rememebr what this bit was so Ill leave it for now."
   ]
  },
  {
   "cell_type": "code",
   "execution_count": 17,
   "metadata": {
    "collapsed": false,
    "jupyter": {
     "outputs_hidden": false
    }
   },
   "outputs": [
    {
     "data": {
      "text/plain": [
       "False"
      ]
     },
     "execution_count": 17,
     "metadata": {},
     "output_type": "execute_result"
    }
   ],
   "source": [
    "res = []\n",
    "for (x1,x2,x3,x4,x5,x6) in itertools.product(range(2),range(2),range(2),range(2),range(2),range(2)):\n",
    "    stack = []\n",
    "    \n",
    "    if x4 == 1 and x5 == 1:\n",
    "        continue\n",
    "    elif x1 == 0 and x2 == 0 and x3 == 0 and x4 == 0 and x5 == 0 and x6 == 0:\n",
    "        continue\n",
    "        \n",
    "    if x6 == 1:\n",
    "        stack.insert(0,t_action)\n",
    "        \n",
    "    if x5 == 1:\n",
    "        stack.insert(0,u1_action)\n",
    "        \n",
    "    if x4 == 1:\n",
    "        stack.insert(0,u2_action)\n",
    "        \n",
    "    if x3 == 1:\n",
    "        stack.insert(0,k_action)\n",
    "        \n",
    "    if x2 == 1:\n",
    "        stack.insert(0,j_action)\n",
    "        \n",
    "    if x1 == 1:\n",
    "        stack.insert(0,neg_action) \n",
    "        \n",
    "    action = functools.reduce(compose,stack)\n",
    "    \n",
    "    res.append(action(y1,y2,y3,y4,y5,y6) == left_action(x1,x2,x3,x4,x5,x6))\n",
    "    \n",
    "all(res)    "
   ]
  },
  {
   "cell_type": "code",
   "execution_count": 18,
   "metadata": {
    "collapsed": false,
    "jupyter": {
     "outputs_hidden": false
    }
   },
   "outputs": [],
   "source": [
    "stack.append(1)"
   ]
  },
  {
   "cell_type": "code",
   "execution_count": 19,
   "metadata": {
    "collapsed": false,
    "jupyter": {
     "outputs_hidden": false
    }
   },
   "outputs": [
    {
     "data": {
      "text/plain": [
       "(y1 + 1, y2, y3, y4, y5, y6)"
      ]
     },
     "execution_count": 19,
     "metadata": {},
     "output_type": "execute_result"
    }
   ],
   "source": [
    "neg_action(y1,y2,y3,y4,y5,y6)"
   ]
  },
  {
   "cell_type": "code",
   "execution_count": null,
   "metadata": {
    "collapsed": false,
    "jupyter": {
     "outputs_hidden": false
    }
   },
   "outputs": [],
   "source": []
  }
 ],
 "metadata": {
  "kernelspec": {
   "display_name": "SageMath 9.7",
   "language": "sage",
   "name": "sagemath"
  },
  "language_info": {
   "codemirror_mode": {
    "name": "ipython",
    "version": 3
   },
   "file_extension": ".py",
   "mimetype": "text/x-python",
   "name": "python",
   "nbconvert_exporter": "python",
   "pygments_lexer": "ipython3",
   "version": "3.10.5"
  }
 },
 "nbformat": 4,
 "nbformat_minor": 4
}
